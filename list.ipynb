{
 "cells": [
  {
   "cell_type": "markdown",
   "metadata": {},
   "source": [
    "#list\n",
    "- create \n",
    "- indexing and slicing\n",
    "- methods\n",
    "- append()\n",
    "- insert()\n",
    "- extend()\n",
    "- count()\n",
    "- reverse()\n",
    "-  sort()\n",
    "- index()\n",
    "- copy()\n",
    "- comprehension"
   ]
  },
  {
   "cell_type": "code",
   "execution_count": 1,
   "metadata": {},
   "outputs": [
    {
     "name": "stdout",
     "output_type": "stream",
     "text": [
      "[1, 2, 3] <class 'list'>\n",
      "['Alice', 'bob', 'charlie'] <class 'list'>\n",
      "['apple', 50, 'mango', 100, 'orange', 70]\n",
      "[[1, 2, 3], [4, 5, 6], [7, 8]]\n",
      "[1, 1, 1, 1, 1, 1, 1, 1, 1, 1]\n",
      "['v', 'e', 'r', 't', 'e', 'x']\n",
      "['welcome', 'to', 'listing']\n"
     ]
    }
   ],
   "source": [
    "a = [1,2,3]\n",
    "print(a,type(a))\n",
    "names = ['Alice','bob','charlie']\n",
    "print(names, type(names))\n",
    "data = ['apple', 50,'mango',100, 'orange', 70]\n",
    "nested_list = [[1,2,3],[4,5,6],[7,8]]\n",
    "print(data)\n",
    "print(nested_list)\n",
    "duplicated_list = [1]*10\n",
    "print(duplicated_list)\n",
    "print(list('vertex'))\n",
    "print('welcome to listing'.split())"
   ]
  },
  {
   "cell_type": "code",
   "execution_count": 14,
   "metadata": {},
   "outputs": [
    {
     "name": "stdout",
     "output_type": "stream",
     "text": [
      "first six = [11, 12, 13, 14, 15, 16]\n",
      "last six = [15, 16, 17, 18, 19, 20]\n",
      "second last element= 19\n",
      "second element= 11\n",
      "except first 2 and last 2= [13, 14, 15, 16, 17, 18]\n",
      "reverse list = [20, 19, 18, 17, 16, 15, 14, 13, 12, 11]\n",
      "all even indexes= [11, 13, 15, 17, 19]\n",
      "all odd indexes= [12, 14, 16, 18, 20]\n"
     ]
    }
   ],
   "source": [
    "n = [11,12,13,14,15,16,17,18,19,20]\n",
    "print('first six =',n[:6])\n",
    "print('last six =',n[-6:])\n",
    "print('second last element=',n[-2])\n",
    "print('second element=',n[0])\n",
    "print('except first 2 and last 2=',n[2: -2])\n",
    "print('reverse list =',n[::-1])\n",
    "print('all even indexes=',n[::2])\n",
    "print('all odd indexes=',n[1::2])"
   ]
  },
  {
   "cell_type": "code",
   "execution_count": 17,
   "metadata": {},
   "outputs": [
    {
     "name": "stdout",
     "output_type": "stream",
     "text": [
      "[200, 12, 13, 14, 15, 100, 17, 18, 19, 20]\n",
      "[200, 12, 13, 14, 15, 100, 17, 18, 19, 20]\n"
     ]
    }
   ],
   "source": [
    "#list is mutable\n",
    "n[5] = 100 #update\n",
    "print(n)\n",
    "n[0] = 200\n",
    "print(n)"
   ]
  },
  {
   "cell_type": "code",
   "execution_count": 12,
   "metadata": {},
   "outputs": [
    {
     "name": "stdout",
     "output_type": "stream",
     "text": [
      "<class 'list'>\n",
      "0\n",
      "['star wars', 'harry potter', 'the core', 'the bullet', 'iron man']\n",
      "5\n"
     ]
    }
   ],
   "source": [
    "movies =[]\n",
    "print(type(movies))\n",
    "print(len(movies))\n",
    "movies.append(\"star wars\")\n",
    "movies.append(\"harry potter\")\n",
    "movies.append(\"the core\")\n",
    "movies.append(\"the bullet\")\n",
    "movies.append(\"iron man\")\n",
    "print(movies)\n",
    "print(len(movies))"
   ]
  },
  {
   "cell_type": "code",
   "execution_count": 1,
   "metadata": {},
   "outputs": [
    {
     "name": "stdout",
     "output_type": "stream",
     "text": [
      "['fast and furious', '2 fast 2 furious', 'fast and furious', 'fast and furious3']\n",
      "['fast and furious', '2 fast 2 furious', '2 fast 2 furious', 'fast and furious', 'fast and furious3']\n"
     ]
    }
   ],
   "source": [
    "ff = ['fast and furious',\n",
    "      '2 fast 2 furious',\n",
    "      'fast and furious']\n",
    "ff.append(\"fast and furious3\")\n",
    "print(ff)\n",
    "ff.insert(2,'2 fast 2 furious')\n",
    "print(ff)"
   ]
  },
  {
   "cell_type": "code",
   "execution_count": 4,
   "metadata": {},
   "outputs": [
    {
     "name": "stdout",
     "output_type": "stream",
     "text": [
      "[1, 2, 3, 4, 6, 7, 8, 9]\n",
      "[1, 2, 3, 4, 5, 6, 7, 8, 9]\n",
      "[1, 2, 3, 4, 5, 6, 7, 8, 9, 5]\n"
     ]
    }
   ],
   "source": [
    "n = [1,2,3,6,7,8,9]\n",
    "n.insert(3,4)#on 3rd index, insert value =4\n",
    "print(n)\n",
    "n.insert(4,5)\n",
    "print(n)\n",
    "n.insert(100,5)\n",
    "print(n)"
   ]
  },
  {
   "cell_type": "code",
   "execution_count": 25,
   "metadata": {},
   "outputs": [
    {
     "name": "stdout",
     "output_type": "stream",
     "text": [
      "[1, 2, 3, 4, 5, 6]\n",
      "[4, 5, 6]\n",
      "[4, 5, 6, 7, 8, 9]\n",
      "[7, 8, 9, 1, 2, 3, 4, 5, 5]\n"
     ]
    }
   ],
   "source": [
    "#adding list in a another list\n",
    "l1 = [1,2,3]\n",
    "l2 = [4,5,6]\n",
    "l3 = [7,8,9]\n",
    "l1.extend(l2)\n",
    "print(l1)\n",
    "print(l2)\n",
    "l2.extend(l3)\n",
    "print(l2)\n",
    "l3.extend([1,2,3,4,5,5])\n",
    "print(l3)\n",
    "\n"
   ]
  },
  {
   "cell_type": "code",
   "execution_count": 5,
   "metadata": {},
   "outputs": [
    {
     "name": "stdout",
     "output_type": "stream",
     "text": [
      "3\n",
      "[1, 2, 4, 6, 7, 8, 9, 5]\n"
     ]
    }
   ],
   "source": [
    "n.remove(3)#search where is 3 and remove it\n",
    "print(3)\n",
    "n.remove(5)#remove first\n",
    "print(n)"
   ]
  },
  {
   "cell_type": "code",
   "execution_count": 8,
   "metadata": {},
   "outputs": [
    {
     "name": "stdout",
     "output_type": "stream",
     "text": [
      "['star wars', 'harry potter', 'the bullet', 'iron man']\n"
     ]
    }
   ],
   "source": [
    "movies.remove('the core')\n",
    "print(movies)"
   ]
  },
  {
   "cell_type": "code",
   "execution_count": 9,
   "metadata": {},
   "outputs": [
    {
     "data": {
      "text/plain": [
       "6"
      ]
     },
     "execution_count": 9,
     "metadata": {},
     "output_type": "execute_result"
    }
   ],
   "source": [
    "n.pop(3)"
   ]
  },
  {
   "cell_type": "code",
   "execution_count": 10,
   "metadata": {},
   "outputs": [
    {
     "name": "stdout",
     "output_type": "stream",
     "text": [
      "[1, 2, 4, 7, 8, 9, 5]\n"
     ]
    }
   ],
   "source": [
    "print(n)"
   ]
  },
  {
   "cell_type": "code",
   "execution_count": 13,
   "metadata": {},
   "outputs": [
    {
     "data": {
      "text/plain": [
       "9"
      ]
     },
     "execution_count": 13,
     "metadata": {},
     "output_type": "execute_result"
    }
   ],
   "source": [
    "n.pop()#remove last letter\n"
   ]
  },
  {
   "cell_type": "code",
   "execution_count": 14,
   "metadata": {},
   "outputs": [
    {
     "name": "stdout",
     "output_type": "stream",
     "text": [
      "['star wars', 'harry potter', 'the core', 'the bullet']\n"
     ]
    }
   ],
   "source": [
    "movies.pop()\n",
    "print(movies)"
   ]
  },
  {
   "cell_type": "code",
   "execution_count": 15,
   "metadata": {},
   "outputs": [
    {
     "name": "stdout",
     "output_type": "stream",
     "text": [
      "[]\n",
      "[]\n"
     ]
    }
   ],
   "source": [
    "n.clear()\n",
    "print(n)\n",
    "movies.clear()\n",
    "print(movies)"
   ]
  },
  {
   "cell_type": "code",
   "execution_count": 16,
   "metadata": {},
   "outputs": [
    {
     "name": "stdout",
     "output_type": "stream",
     "text": [
      "4\n",
      "8\n",
      "7\n"
     ]
    }
   ],
   "source": [
    "x = [1,2,3,1,1,1,2,2,2,2,2,2,3,3,3,3,3,3,2]\n",
    "\n",
    "print(x.count(1))\n",
    "\n",
    "print(x.count(2))\n",
    "print(x.count(3))"
   ]
  },
  {
   "cell_type": "code",
   "execution_count": 17,
   "metadata": {},
   "outputs": [
    {
     "name": "stdout",
     "output_type": "stream",
     "text": [
      "[5, 4, 3, 2, 1]\n"
     ]
    }
   ],
   "source": [
    "y =[1,2,3,4,5]\n",
    "y.reverse()#or y[::-1]\n",
    "print(y)"
   ]
  },
  {
   "cell_type": "code",
   "execution_count": 19,
   "metadata": {},
   "outputs": [
    {
     "name": "stdout",
     "output_type": "stream",
     "text": [
      "['akbar', 'rahul', 'salman', 'vijay']\n",
      "['vijay', 'salman', 'rahul', 'akbar']\n"
     ]
    }
   ],
   "source": [
    "names = ['vijay','salman','rahul','akbar']\n",
    "names.sort()\n",
    "print(names)\n",
    "names.sort(reverse=True)\n",
    "print(names)"
   ]
  },
  {
   "cell_type": "code",
   "execution_count": 21,
   "metadata": {},
   "outputs": [
    {
     "name": "stdout",
     "output_type": "stream",
     "text": [
      "['goku', 'naruto', 'luffy', 'ichigo', 'natsu', 'meliodas']\n",
      "2\n"
     ]
    }
   ],
   "source": [
    "heroes =['goku','naruto','luffy','ichigo','natsu','meliodas']\n",
    "print(heroes)\n",
    "luffy_idx = heroes.index('luffy')\n",
    "print(luffy_idx)"
   ]
  },
  {
   "cell_type": "code",
   "execution_count": 26,
   "metadata": {},
   "outputs": [
    {
     "name": "stdout",
     "output_type": "stream",
     "text": [
      "[1, 2, 3, 4, 5]\n",
      "[1, 2, 3, 4, 5]\n",
      "[1, 2, 3, 6]\n",
      "True\n",
      "False\n"
     ]
    }
   ],
   "source": [
    "x = [1,2,3]\n",
    "y = x  #y is a reference to x\n",
    "z = x.copy() #z is shallow copy of x\n",
    "x.append(4)\n",
    "y.append(5)\n",
    "z.append(6)\n",
    "print(x)\n",
    "print(y)\n",
    "print(z)\n",
    "print(x is y)\n",
    "print(x is z)"
   ]
  },
  {
   "cell_type": "markdown",
   "metadata": {},
   "source": [
    "comprehension"
   ]
  },
  {
   "cell_type": "code",
   "execution_count": 27,
   "metadata": {},
   "outputs": [
    {
     "name": "stdout",
     "output_type": "stream",
     "text": [
      "[1]\n",
      "[1, 4]\n",
      "[1, 4, 9]\n",
      "[1, 4, 9, 16]\n",
      "[1, 4, 9, 16, 25]\n"
     ]
    }
   ],
   "source": [
    "x =[1,2,3,4,5]\n",
    "x2 =[]\n",
    "for i in x:\n",
    "    s = i**2\n",
    "    x2.append(s)\n",
    "    print(x2)"
   ]
  },
  {
   "cell_type": "code",
   "execution_count": 28,
   "metadata": {},
   "outputs": [
    {
     "name": "stdout",
     "output_type": "stream",
     "text": [
      "[1, 2, 3, 4, 5, 6]\n",
      "[-9, -8, -7, -6, -5, -4]\n"
     ]
    }
   ],
   "source": [
    "x = [1,2,3,4,5,6,]\n",
    "x2= [i-10 for i in x]\n",
    "print(x)\n",
    "print(x2) \n"
   ]
  },
  {
   "cell_type": "code",
   "execution_count": 34,
   "metadata": {},
   "outputs": [
    {
     "name": "stdout",
     "output_type": "stream",
     "text": [
      "[15, 3, 12, 11, 6, 7]\n",
      "[144, 36]\n",
      "[7, 1]\n"
     ]
    }
   ],
   "source": [
    "a =[15,3,12,11,6,7]\n",
    "aeven2 =[i**2 for i in a if i%2==0]\n",
    "print(a)\n",
    "print(aeven2)\n",
    "aood =[i-5 for i in a if i%2==0]\n",
    "print(aood)\n"
   ]
  },
  {
   "cell_type": "code",
   "execution_count": 37,
   "metadata": {},
   "outputs": [
    {
     "name": "stdout",
     "output_type": "stream",
     "text": [
      "[65, 68, 59, 20, 70]\n",
      "['A', 'D', ';', '\\x14', 'F']\n"
     ]
    }
   ],
   "source": [
    "b = [65,68,59,20,70]\n",
    "c =[chr(i) for i in b]\n",
    "print(b)\n",
    "print(c)"
   ]
  },
  {
   "cell_type": "code",
   "execution_count": 39,
   "metadata": {},
   "outputs": [
    {
     "name": "stdout",
     "output_type": "stream",
     "text": [
      "['a', 1, 2, 3, 'B', 'c', 'D', 4, 5, 6, 1, 1, 2, 5, 6]\n",
      "['a', 'B', 'c', 'D']\n"
     ]
    }
   ],
   "source": [
    "crap_list = ['a',1,2,3,'B','c','D',4,5,6,1,1,2,5,6,]\n",
    "clean_list = [i for i in crap_list if isinstance(i,str)]\n",
    "print(crap_list)\n",
    "print(clean_list)"
   ]
  },
  {
   "cell_type": "code",
   "execution_count": 46,
   "metadata": {},
   "outputs": [
    {
     "name": "stdout",
     "output_type": "stream",
     "text": [
      "[1, 2, 3, 4]\n"
     ]
    }
   ],
   "source": [
    "#make all the input to a int list\n",
    "nums =[int(n) for n in input('enter a number').split()]\n",
    "print(nums)"
   ]
  },
  {
   "cell_type": "markdown",
   "metadata": {},
   "source": [
    "tuple"
   ]
  },
  {
   "cell_type": "code",
   "execution_count": 47,
   "metadata": {},
   "outputs": [
    {
     "name": "stdout",
     "output_type": "stream",
     "text": [
      "(1, 2, 3, 4, 5) <class 'tuple'>\n",
      "(1, 2, 3, 4) <class 'tuple'>\n",
      "(1,)\n",
      "(1, 2, 3, 4, 5) <class 'tuple'>\n"
     ]
    }
   ],
   "source": [
    "a = (1,2,3,4,5)\n",
    "print(a, type(a))\n",
    "b =1,2,3,4\n",
    "print(b,type(b))\n",
    "c =(1,)\n",
    "print(c)\n",
    "d = (1,)*5#tuple duplication\n",
    "e = tuple([1,2,3,4,5])\n",
    "print(e,type(e))"
   ]
  },
  {
   "cell_type": "code",
   "execution_count": 48,
   "metadata": {},
   "outputs": [
    {
     "name": "stdout",
     "output_type": "stream",
     "text": [
      "3\n",
      "0\n",
      "4\n"
     ]
    }
   ],
   "source": [
    "x =(1,1,1,13,4,5,6,6)\n",
    "print(x.count(1))\n",
    "print(x.count(10))\n",
    "print(x.index(4))#find index of 4"
   ]
  },
  {
   "cell_type": "markdown",
   "metadata": {},
   "source": [
    "tuple unpacking"
   ]
  },
  {
   "cell_type": "code",
   "execution_count": 1,
   "metadata": {},
   "outputs": [
    {
     "data": {
      "text/plain": [
       "(1, 2, 3)"
      ]
     },
     "execution_count": 1,
     "metadata": {},
     "output_type": "execute_result"
    }
   ],
   "source": [
    "1,2,3"
   ]
  },
  {
   "cell_type": "code",
   "execution_count": 2,
   "metadata": {},
   "outputs": [
    {
     "name": "stdout",
     "output_type": "stream",
     "text": [
      "('apple', 100)\n"
     ]
    }
   ],
   "source": [
    "x = ('apple',100)\n",
    "print(x)"
   ]
  },
  {
   "cell_type": "code",
   "execution_count": 3,
   "metadata": {},
   "outputs": [
    {
     "name": "stdout",
     "output_type": "stream",
     "text": [
      "apple 100\n"
     ]
    }
   ],
   "source": [
    "item, price =x\n",
    "print(item,price)"
   ]
  },
  {
   "cell_type": "code",
   "execution_count": 4,
   "metadata": {},
   "outputs": [
    {
     "name": "stdout",
     "output_type": "stream",
     "text": [
      "10 20 30\n"
     ]
    }
   ],
   "source": [
    "a,b,c = 10,20,30\n",
    "print(a,b,c)"
   ]
  },
  {
   "cell_type": "code",
   "execution_count": 8,
   "metadata": {},
   "outputs": [
    {
     "ename": "ValueError",
     "evalue": "too many values to unpack (expected 3)",
     "output_type": "error",
     "traceback": [
      "\u001b[1;31m---------------------------------------------------------------------------\u001b[0m",
      "\u001b[1;31mValueError\u001b[0m                                Traceback (most recent call last)",
      "Cell \u001b[1;32mIn[8], line 3\u001b[0m\n\u001b[0;32m      1\u001b[0m \u001b[38;5;66;03m#erroe - too many values to unpack\u001b[39;00m\n\u001b[0;32m      2\u001b[0m one_tuple \u001b[38;5;241m=\u001b[39m (\u001b[38;5;241m1\u001b[39m,\u001b[38;5;241m2\u001b[39m,\u001b[38;5;241m3\u001b[39m,\u001b[38;5;241m4\u001b[39m,\u001b[38;5;241m5\u001b[39m,\u001b[38;5;241m6\u001b[39m,\u001b[38;5;241m7\u001b[39m,\u001b[38;5;241m8\u001b[39m,\u001b[38;5;241m9\u001b[39m,\u001b[38;5;241m10\u001b[39m)\u001b[38;5;66;03m#\u001b[39;00m\n\u001b[1;32m----> 3\u001b[0m a,b,c \u001b[38;5;241m=\u001b[39m one_tuple\n",
      "\u001b[1;31mValueError\u001b[0m: too many values to unpack (expected 3)"
     ]
    }
   ],
   "source": [
    "#erroe - too many values to unpack\n",
    "one_tuple = (1,2,3,4,5,6,7,8,9,10)#\n",
    "a,b,c = one_tuple"
   ]
  },
  {
   "cell_type": "code",
   "execution_count": 13,
   "metadata": {},
   "outputs": [
    {
     "ename": "ValueError",
     "evalue": "not enough values to unpack (expected 3, got 2)",
     "output_type": "error",
     "traceback": [
      "\u001b[1;31m---------------------------------------------------------------------------\u001b[0m",
      "\u001b[1;31mValueError\u001b[0m                                Traceback (most recent call last)",
      "Cell \u001b[1;32mIn[13], line 2\u001b[0m\n\u001b[0;32m      1\u001b[0m \u001b[38;5;66;03m#error -less values to unpack\u001b[39;00m\n\u001b[1;32m----> 2\u001b[0m a,b,c \u001b[38;5;241m=\u001b[39m x\n",
      "\u001b[1;31mValueError\u001b[0m: not enough values to unpack (expected 3, got 2)"
     ]
    }
   ],
   "source": [
    "\n",
    "#error -less values to unpack\n",
    "a,b,c = x#unfixable\n"
   ]
  },
  {
   "cell_type": "code",
   "execution_count": 10,
   "metadata": {},
   "outputs": [
    {
     "name": "stdout",
     "output_type": "stream",
     "text": [
      "1 2 [3, 4, 5, 6, 7, 8, 9, 10]\n"
     ]
    }
   ],
   "source": [
    "#* - ubpacking operator\n",
    "one_tuple = (1,2,3,4,5,6,7,8,9,10)\n",
    "a,b,*c = one_tuple\n",
    "print(a,b,c)"
   ]
  },
  {
   "cell_type": "code",
   "execution_count": 11,
   "metadata": {},
   "outputs": [
    {
     "name": "stdout",
     "output_type": "stream",
     "text": [
      "1\n",
      "[2, 3, 4, 5, 6, 7, 8, 9, 10]\n"
     ]
    }
   ],
   "source": [
    "a,*b = one_tuple\n",
    "print(a)\n",
    "print(b)"
   ]
  },
  {
   "cell_type": "code",
   "execution_count": 12,
   "metadata": {},
   "outputs": [
    {
     "name": "stdout",
     "output_type": "stream",
     "text": [
      "1\n",
      "[2, 3, 4, 5, 6, 7, 8, 9]\n",
      "10\n"
     ]
    }
   ],
   "source": [
    "one,*middle,last = one_tuple\n",
    "print(one)\n",
    "print(middle) \n",
    "print(last)"
   ]
  },
  {
   "cell_type": "code",
   "execution_count": 20,
   "metadata": {},
   "outputs": [
    {
     "name": "stdout",
     "output_type": "stream",
     "text": [
      "(1, 2, 3, 4, 5, 6, 7, 8, 9, 10)\n",
      "1 2 3 4 5 6 7 8 9 10\n",
      "1/n2/n3/n4/n5/n6/n7/n8/n9/n10\n"
     ]
    }
   ],
   "source": [
    "# trick - using * for displaying data in print\n",
    "print(one_tuple)\n",
    " \n",
    "print(*one_tuple)# works with any iterable\n",
    "\n",
    "print(*one_tuple, sep ='/n')"
   ]
  },
  {
   "cell_type": "code",
   "execution_count": 21,
   "metadata": {},
   "outputs": [
    {
     "name": "stdout",
     "output_type": "stream",
     "text": [
      "1\n",
      "2\n",
      "3\n",
      "4\n",
      "5\n",
      "6\n",
      "7\n",
      "8\n",
      "9\n",
      "10\n"
     ]
    }
   ],
   "source": [
    "for i in one_tuple:\n",
    "    print(i)"
   ]
  },
  {
   "cell_type": "code",
   "execution_count": 1,
   "metadata": {},
   "outputs": [
    {
     "name": "stdout",
     "output_type": "stream",
     "text": [
      "3\n",
      "6\n",
      "9\n",
      "12\n",
      "15\n",
      "18\n",
      "21\n",
      "24\n",
      "27\n",
      "30\n"
     ]
    }
   ],
   "source": [
    "x = [1,2,3,4,5,6,7,8,9,10]\n",
    "x2 = 3\n",
    "for i in x :\n",
    "    print(i*x2)"
   ]
  }
 ],
 "metadata": {
  "kernelspec": {
   "display_name": "base",
   "language": "python",
   "name": "python3"
  },
  "language_info": {
   "codemirror_mode": {
    "name": "ipython",
    "version": 3
   },
   "file_extension": ".py",
   "mimetype": "text/x-python",
   "name": "python",
   "nbconvert_exporter": "python",
   "pygments_lexer": "ipython3",
   "version": "3.11.5"
  }
 },
 "nbformat": 4,
 "nbformat_minor": 2
}
