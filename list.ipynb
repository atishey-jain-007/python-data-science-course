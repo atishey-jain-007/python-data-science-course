{
 "cells": [
  {
   "cell_type": "markdown",
   "metadata": {},
   "source": [
    "#list\n",
    "- create \n",
    "- indexing and slicing\n",
    "- methods\n",
    "- append()\n",
    "- insert()\n",
    "- extend()\n",
    "- count()\n"
   ]
  },
  {
   "cell_type": "code",
   "execution_count": 1,
   "metadata": {},
   "outputs": [
    {
     "name": "stdout",
     "output_type": "stream",
     "text": [
      "[1, 2, 3] <class 'list'>\n",
      "['Alice', 'bob', 'charlie'] <class 'list'>\n",
      "['apple', 50, 'mango', 100, 'orange', 70]\n",
      "[[1, 2, 3], [4, 5, 6], [7, 8]]\n",
      "[1, 1, 1, 1, 1, 1, 1, 1, 1, 1]\n",
      "['v', 'e', 'r', 't', 'e', 'x']\n",
      "['welcome', 'to', 'listing']\n"
     ]
    }
   ],
   "source": [
    "a = [1,2,3]\n",
    "print(a,type(a))\n",
    "names = ['Alice','bob','charlie']\n",
    "print(names, type(names))\n",
    "data = ['apple', 50,'mango',100, 'orange', 70]\n",
    "nested_list = [[1,2,3],[4,5,6],[7,8]]\n",
    "print(data)\n",
    "print(nested_list)\n",
    "duplicated_list = [1]*10\n",
    "print(duplicated_list)\n",
    "print(list('vertex'))\n",
    "print('welcome to listing'.split())"
   ]
  },
  {
   "cell_type": "code",
   "execution_count": 14,
   "metadata": {},
   "outputs": [
    {
     "name": "stdout",
     "output_type": "stream",
     "text": [
      "first six = [11, 12, 13, 14, 15, 16]\n",
      "last six = [15, 16, 17, 18, 19, 20]\n",
      "second last element= 19\n",
      "second element= 11\n",
      "except first 2 and last 2= [13, 14, 15, 16, 17, 18]\n",
      "reverse list = [20, 19, 18, 17, 16, 15, 14, 13, 12, 11]\n",
      "all even indexes= [11, 13, 15, 17, 19]\n",
      "all odd indexes= [12, 14, 16, 18, 20]\n"
     ]
    }
   ],
   "source": [
    "n = [11,12,13,14,15,16,17,18,19,20]\n",
    "print('first six =',n[:6])\n",
    "print('last six =',n[-6:])\n",
    "print('second last element=',n[-2])\n",
    "print('second element=',n[0])\n",
    "print('except first 2 and last 2=',n[2: -2])\n",
    "print('reverse list =',n[::-1])\n",
    "print('all even indexes=',n[::2])\n",
    "print('all odd indexes=',n[1::2])"
   ]
  },
  {
   "cell_type": "code",
   "execution_count": 17,
   "metadata": {},
   "outputs": [
    {
     "name": "stdout",
     "output_type": "stream",
     "text": [
      "[200, 12, 13, 14, 15, 100, 17, 18, 19, 20]\n",
      "[200, 12, 13, 14, 15, 100, 17, 18, 19, 20]\n"
     ]
    }
   ],
   "source": [
    "#list is mutable\n",
    "n[5] = 100 #update\n",
    "print(n)\n",
    "n[0] = 200\n",
    "print(n)"
   ]
  },
  {
   "cell_type": "code",
   "execution_count": 20,
   "metadata": {},
   "outputs": [
    {
     "name": "stdout",
     "output_type": "stream",
     "text": [
      "<class 'list'>\n",
      "0\n",
      "['star wars', 'harry potter', 'the core', 'the bullet', 'iron man']\n",
      "5\n"
     ]
    }
   ],
   "source": [
    "movies =[]\n",
    "print(type(movies))\n",
    "print(len(movies))\n",
    "movies.append(\"star wars\")\n",
    "movies.append(\"harry potter\")\n",
    "movies.append(\"the core\")\n",
    "movies.append(\"the bullet\")\n",
    "movies.append(\"iron man\")\n",
    "print(movies)\n",
    "print(len(movies))"
   ]
  },
  {
   "cell_type": "code",
   "execution_count": 21,
   "metadata": {},
   "outputs": [
    {
     "name": "stdout",
     "output_type": "stream",
     "text": [
      "['fast and furious', '2 fast 2 furious', 'fast and furious', 'fast and furious3']\n",
      "['fast and furious', '2 fast 2 furious', '2 fast 2 furious', 'fast and furious', 'fast and furious3']\n"
     ]
    }
   ],
   "source": [
    "ff = ['fast and furious',\n",
    "      '2 fast 2 furious',\n",
    "      'fast and furious']\n",
    "ff.append(\"fast and furious3\")\n",
    "print(ff)\n",
    "ff.insert(2,'2 fast 2 furious')\n",
    "print(ff)"
   ]
  },
  {
   "cell_type": "code",
   "execution_count": 23,
   "metadata": {},
   "outputs": [
    {
     "name": "stdout",
     "output_type": "stream",
     "text": [
      "[1, 2, 3, 4, 6, 7, 8, 9]\n",
      "[1, 2, 3, 4, 5, 6, 7, 8, 9]\n",
      "[1, 2, 3, 4, 5, 6, 7, 8, 9, 5]\n"
     ]
    }
   ],
   "source": [
    "n = [1,2,3,6,7,8,9]\n",
    "n.insert(3,4)#on 3rd index, insert value =4\n",
    "print(n)\n",
    "n.insert(4,5)\n",
    "print(n)\n",
    "n.insert(100,5)\n",
    "print(n)"
   ]
  },
  {
   "cell_type": "code",
   "execution_count": 25,
   "metadata": {},
   "outputs": [
    {
     "name": "stdout",
     "output_type": "stream",
     "text": [
      "[1, 2, 3, 4, 5, 6]\n",
      "[4, 5, 6]\n",
      "[4, 5, 6, 7, 8, 9]\n",
      "[7, 8, 9, 1, 2, 3, 4, 5, 5]\n"
     ]
    }
   ],
   "source": [
    "#adding list in a another list\n",
    "l1 = [1,2,3]\n",
    "l2 = [4,5,6]\n",
    "l3 = [7,8,9]\n",
    "l1.extend(l2)\n",
    "print(l1)\n",
    "print(l2)\n",
    "l2.extend(l3)\n",
    "print(l2)\n",
    "l3.extend([1,2,3,4,5,5])\n",
    "print(l3)\n",
    "\n"
   ]
  },
  {
   "cell_type": "code",
   "execution_count": null,
   "metadata": {},
   "outputs": [],
   "source": []
  }
 ],
 "metadata": {
  "kernelspec": {
   "display_name": "base",
   "language": "python",
   "name": "python3"
  },
  "language_info": {
   "codemirror_mode": {
    "name": "ipython",
    "version": 3
   },
   "file_extension": ".py",
   "mimetype": "text/x-python",
   "name": "python",
   "nbconvert_exporter": "python",
   "pygments_lexer": "ipython3",
   "version": "3.11.5"
  }
 },
 "nbformat": 4,
 "nbformat_minor": 2
}
