{
 "cells": [
  {
   "cell_type": "code",
   "execution_count": 37,
   "metadata": {},
   "outputs": [],
   "source": [
    "import numpy as np"
   ]
  },
  {
   "cell_type": "markdown",
   "metadata": {},
   "source": [
    "- create\n",
    "- basic operation\n",
    "- math operation\n",
    "- indexing and slicing\n",
    "- boolean filter"
   ]
  },
  {
   "cell_type": "code",
   "execution_count": 6,
   "metadata": {},
   "outputs": [
    {
     "name": "stdout",
     "output_type": "stream",
     "text": [
      "[1 2 3 4 5]\n",
      "(5,)\n"
     ]
    }
   ],
   "source": [
    "x =np.array([1,2,3,4,5])\n",
    "print(x)\n",
    "print(x.shape)"
   ]
  },
  {
   "cell_type": "code",
   "execution_count": 8,
   "metadata": {},
   "outputs": [
    {
     "name": "stdout",
     "output_type": "stream",
     "text": [
      "[[1 2 3]\n",
      " [4 5 6]]\n",
      "(2, 3)\n"
     ]
    }
   ],
   "source": [
    "a = np.array([[1,2,3],[4,5,6]])\n",
    "print(a)\n",
    "print(a.shape)"
   ]
  },
  {
   "cell_type": "code",
   "execution_count": 9,
   "metadata": {},
   "outputs": [
    {
     "name": "stdout",
     "output_type": "stream",
     "text": [
      "[[1 2 3]\n",
      " [4 5 6]\n",
      " [7 9 9]]\n",
      "(3, 3)\n"
     ]
    }
   ],
   "source": [
    "b = np.array([[1,2,3],[4,5,6],[7,9,9]])\n",
    "print(b)\n",
    "print(b.shape)"
   ]
  },
  {
   "cell_type": "code",
   "execution_count": 10,
   "metadata": {},
   "outputs": [
    {
     "name": "stdout",
     "output_type": "stream",
     "text": [
      "[[0 1 2 3 4 5 6 7 8 9]\n",
      " [0 1 2 3 4 5 6 7 8 9]\n",
      " [0 1 2 3 4 5 6 7 8 9]\n",
      " [0 1 2 3 4 5 6 7 8 9]\n",
      " [0 1 2 3 4 5 6 7 8 9]\n",
      " [0 1 2 3 4 5 6 7 8 9]\n",
      " [0 1 2 3 4 5 6 7 8 9]\n",
      " [0 1 2 3 4 5 6 7 8 9]\n",
      " [0 1 2 3 4 5 6 7 8 9]\n",
      " [0 1 2 3 4 5 6 7 8 9]]\n",
      "(10, 10)\n"
     ]
    }
   ],
   "source": [
    "z = [0,1,2,3,4,5,6,7,8,9]\n",
    "nz = np.array([z]*10)\n",
    "print(nz)\n",
    "print(nz.shape)"
   ]
  },
  {
   "cell_type": "markdown",
   "metadata": {},
   "source": [
    "- random\n",
    "- arange\n",
    "- linspace\n"
   ]
  },
  {
   "cell_type": "code",
   "execution_count": 11,
   "metadata": {},
   "outputs": [
    {
     "data": {
      "text/plain": [
       "array([[0.44235973, 0.43439845, 0.45390851],\n",
       "       [0.23404744, 0.78402967, 0.57445498],\n",
       "       [0.63621963, 0.05679966, 0.21733466]])"
      ]
     },
     "execution_count": 11,
     "metadata": {},
     "output_type": "execute_result"
    }
   ],
   "source": [
    "np.random.rand(3,3)"
   ]
  },
  {
   "cell_type": "code",
   "execution_count": 15,
   "metadata": {},
   "outputs": [
    {
     "name": "stdout",
     "output_type": "stream",
     "text": [
      "[[ 5  0 -5  1  2]\n",
      " [-2  1 -5  2  5]\n",
      " [ 0  2 -2  5  5]\n",
      " [-1 -4  3  4 -2]\n",
      " [-2  5 -2  4 -5]]\n"
     ]
    }
   ],
   "source": [
    "r1 =np.random.randint(-5,6,size=(5,5))\n",
    "print(r1)"
   ]
  },
  {
   "cell_type": "code",
   "execution_count": 18,
   "metadata": {},
   "outputs": [
    {
     "data": {
      "text/plain": [
       "array([ 0. ,  0.6,  1.2,  1.8,  2.4,  3. ,  3.6,  4.2,  4.8,  5.4,  6. ,\n",
       "        6.6,  7.2,  7.8,  8.4,  9. ,  9.6, 10.2, 10.8, 11.4, 12. , 12.6,\n",
       "       13.2, 13.8, 14.4, 15. , 15.6, 16.2, 16.8, 17.4, 18. , 18.6, 19.2,\n",
       "       19.8, 20.4, 21. , 21.6, 22.2, 22.8, 23.4, 24. , 24.6, 25.2, 25.8,\n",
       "       26.4, 27. , 27.6, 28.2, 28.8, 29.4, 30. , 30.6, 31.2, 31.8, 32.4,\n",
       "       33. , 33.6, 34.2, 34.8, 35.4, 36. , 36.6, 37.2, 37.8, 38.4, 39. ,\n",
       "       39.6, 40.2, 40.8, 41.4, 42. , 42.6, 43.2, 43.8, 44.4, 45. , 45.6,\n",
       "       46.2, 46.8, 47.4, 48. , 48.6, 49.2, 49.8, 50.4, 51. , 51.6, 52.2,\n",
       "       52.8, 53.4, 54. , 54.6, 55.2, 55.8, 56.4, 57. , 57.6, 58.2, 58.8,\n",
       "       59.4, 60. , 60.6, 61.2, 61.8, 62.4, 63. , 63.6, 64.2, 64.8, 65.4,\n",
       "       66. , 66.6, 67.2, 67.8, 68.4, 69. , 69.6, 70.2, 70.8, 71.4, 72. ,\n",
       "       72.6, 73.2, 73.8, 74.4, 75. , 75.6, 76.2, 76.8, 77.4, 78. , 78.6,\n",
       "       79.2, 79.8, 80.4, 81. , 81.6, 82.2, 82.8, 83.4, 84. , 84.6, 85.2,\n",
       "       85.8, 86.4, 87. , 87.6, 88.2, 88.8, 89.4, 90. , 90.6, 91.2, 91.8,\n",
       "       92.4, 93. , 93.6, 94.2, 94.8, 95.4, 96. , 96.6, 97.2, 97.8, 98.4,\n",
       "       99. , 99.6])"
      ]
     },
     "execution_count": 18,
     "metadata": {},
     "output_type": "execute_result"
    }
   ],
   "source": [
    "#start,stop,gap\n",
    "np.arange(0,100, .6)"
   ]
  },
  {
   "cell_type": "code",
   "execution_count": 19,
   "metadata": {},
   "outputs": [
    {
     "data": {
      "text/plain": [
       "array([ 0.        ,  0.50505051,  1.01010101,  1.51515152,  2.02020202,\n",
       "        2.52525253,  3.03030303,  3.53535354,  4.04040404,  4.54545455,\n",
       "        5.05050505,  5.55555556,  6.06060606,  6.56565657,  7.07070707,\n",
       "        7.57575758,  8.08080808,  8.58585859,  9.09090909,  9.5959596 ,\n",
       "       10.1010101 , 10.60606061, 11.11111111, 11.61616162, 12.12121212,\n",
       "       12.62626263, 13.13131313, 13.63636364, 14.14141414, 14.64646465,\n",
       "       15.15151515, 15.65656566, 16.16161616, 16.66666667, 17.17171717,\n",
       "       17.67676768, 18.18181818, 18.68686869, 19.19191919, 19.6969697 ,\n",
       "       20.2020202 , 20.70707071, 21.21212121, 21.71717172, 22.22222222,\n",
       "       22.72727273, 23.23232323, 23.73737374, 24.24242424, 24.74747475,\n",
       "       25.25252525, 25.75757576, 26.26262626, 26.76767677, 27.27272727,\n",
       "       27.77777778, 28.28282828, 28.78787879, 29.29292929, 29.7979798 ,\n",
       "       30.3030303 , 30.80808081, 31.31313131, 31.81818182, 32.32323232,\n",
       "       32.82828283, 33.33333333, 33.83838384, 34.34343434, 34.84848485,\n",
       "       35.35353535, 35.85858586, 36.36363636, 36.86868687, 37.37373737,\n",
       "       37.87878788, 38.38383838, 38.88888889, 39.39393939, 39.8989899 ,\n",
       "       40.4040404 , 40.90909091, 41.41414141, 41.91919192, 42.42424242,\n",
       "       42.92929293, 43.43434343, 43.93939394, 44.44444444, 44.94949495,\n",
       "       45.45454545, 45.95959596, 46.46464646, 46.96969697, 47.47474747,\n",
       "       47.97979798, 48.48484848, 48.98989899, 49.49494949, 50.        ])"
      ]
     },
     "execution_count": 19,
     "metadata": {},
     "output_type": "execute_result"
    }
   ],
   "source": [
    "# start, stop, number_of_item\n",
    "np.linspace(0,50,100)"
   ]
  },
  {
   "cell_type": "markdown",
   "metadata": {},
   "source": [
    "- shape\n",
    "- dtype\n",
    "- ndim\n",
    "- size\n",
    "\n",
    "basic operations\n",
    "- sum\n",
    "- mean\n",
    "- min\n",
    "- max\n",
    "- std\n",
    "- reshape\n",
    "- transpose\n",
    "- flatten"
   ]
  },
  {
   "cell_type": "code",
   "execution_count": 20,
   "metadata": {},
   "outputs": [
    {
     "data": {
      "text/plain": [
       "dtype('int64')"
      ]
     },
     "execution_count": 20,
     "metadata": {},
     "output_type": "execute_result"
    }
   ],
   "source": [
    "x.dtype"
   ]
  },
  {
   "cell_type": "code",
   "execution_count": 21,
   "metadata": {},
   "outputs": [
    {
     "data": {
      "text/plain": [
       "dtype('float64')"
      ]
     },
     "execution_count": 21,
     "metadata": {},
     "output_type": "execute_result"
    }
   ],
   "source": [
    "x = np.random.rand(3,3)\n",
    "x.dtype"
   ]
  },
  {
   "cell_type": "code",
   "execution_count": 22,
   "metadata": {},
   "outputs": [
    {
     "data": {
      "text/plain": [
       "2"
      ]
     },
     "execution_count": 22,
     "metadata": {},
     "output_type": "execute_result"
    }
   ],
   "source": [
    "x.ndim"
   ]
  },
  {
   "cell_type": "code",
   "execution_count": 25,
   "metadata": {},
   "outputs": [
    {
     "data": {
      "text/plain": [
       "3"
      ]
     },
     "execution_count": 25,
     "metadata": {},
     "output_type": "execute_result"
    }
   ],
   "source": [
    "z = np.random.randint(1,5,(3,3,3))\n",
    "z.ndim"
   ]
  },
  {
   "cell_type": "code",
   "execution_count": 26,
   "metadata": {},
   "outputs": [
    {
     "data": {
      "text/plain": [
       "27"
      ]
     },
     "execution_count": 26,
     "metadata": {},
     "output_type": "execute_result"
    }
   ],
   "source": [
    "z.size"
   ]
  },
  {
   "cell_type": "code",
   "execution_count": 27,
   "metadata": {},
   "outputs": [
    {
     "data": {
      "text/plain": [
       "np.int64(78)"
      ]
     },
     "execution_count": 27,
     "metadata": {},
     "output_type": "execute_result"
    }
   ],
   "source": [
    "z.sum()"
   ]
  },
  {
   "cell_type": "code",
   "execution_count": 33,
   "metadata": {},
   "outputs": [
    {
     "name": "stdout",
     "output_type": "stream",
     "text": [
      "3.594280389549292\n",
      "[1.09201805 1.76656111 0.73570122]\n",
      "[2.11911594 1.47516445]\n",
      "0.5990467315915486\n",
      "0.9560266872251528\n",
      "0.24454097558292517\n",
      "0.0598002887390488\n"
     ]
    }
   ],
   "source": [
    "a = np.random.rand(2,3)\n",
    "print(a.sum())\n",
    "print(a.sum(axis=0))#column-size\n",
    "print(a.sum(axis=1))# row-wise\n",
    "\n",
    "print(a.mean())\n",
    "print(a.max())\n",
    "print(a.std())\n",
    "print(a.var())\n",
    "#all hte methods can be used with axis\n",
    "\n",
    "\n"
   ]
  },
  {
   "cell_type": "code",
   "execution_count": 36,
   "metadata": {},
   "outputs": [
    {
     "name": "stdout",
     "output_type": "stream",
     "text": [
      "[[72 64 64 56 70]\n",
      " [47 22 88 59 97]\n",
      " [14 62 42 31 41]\n",
      " [20 28 86 35 58]\n",
      " [22 33 33 21 17]]\n",
      "transpose\n",
      "[[72 47 14 20 22]\n",
      " [64 22 62 28 33]\n",
      " [64 88 42 86 33]\n",
      " [56 59 31 35 21]\n",
      " [70 97 41 58 17]]\n",
      "flattened\n",
      "<built-in method flatten of numpy.ndarray object at 0x000002316D045530>\n"
     ]
    }
   ],
   "source": [
    "z = np.random.randint(11,99, (5,5))\n",
    "print(z)\n",
    "print('transpose')\n",
    "print(z.transpose())# or print(z.T)\n",
    "print('flattened')\n",
    "print(z.flatten)"
   ]
  },
  {
   "cell_type": "code",
   "execution_count": 38,
   "metadata": {},
   "outputs": [
    {
     "name": "stdout",
     "output_type": "stream",
     "text": [
      "[[1 7 3 1 8]\n",
      " [4 8 3 9 6]\n",
      " [8 3 5 8 7]\n",
      " [5 9 7 6 2]]\n",
      "[1 7 3 1 8 4 8 3 9 6 8 3 5 8 7 5 9 7 6 2]\n",
      "[[1 7 3 1]\n",
      " [8 4 8 3]\n",
      " [9 6 8 3]\n",
      " [5 8 7 5]\n",
      " [9 7 6 2]]\n",
      "[[1 7 3 1 8 4 8 3 9 6]\n",
      " [8 3 5 8 7 5 9 7 6 2]]\n",
      "[[[1 7]\n",
      "  [3 1]]\n",
      "\n",
      " [[8 4]\n",
      "  [8 3]]\n",
      "\n",
      " [[9 6]\n",
      "  [8 3]]\n",
      "\n",
      " [[5 8]\n",
      "  [7 5]]\n",
      "\n",
      " [[9 7]\n",
      "  [6 2]]]\n"
     ]
    }
   ],
   "source": [
    "a = np.random.randint(1,10, (4,5))\n",
    "print(a)\n",
    "print(a.reshape(20))\n",
    "print(a.reshape(5,4))\n",
    "print(a.reshape(2,10))\n",
    "print(a.reshape(5,2,2))\n"
   ]
  },
  {
   "cell_type": "code",
   "execution_count": 39,
   "metadata": {},
   "outputs": [
    {
     "name": "stdout",
     "output_type": "stream",
     "text": [
      "[[1 2]\n",
      " [3 4]]\n",
      "[[6 2]\n",
      " [6 3]]\n"
     ]
    }
   ],
   "source": [
    "a = np.array([[1,2],[3,4]])\n",
    "b = np.array([[6,2],[6,3]])\n",
    "print(a)\n",
    "print(b)"
   ]
  },
  {
   "cell_type": "code",
   "execution_count": 42,
   "metadata": {},
   "outputs": [
    {
     "name": "stdout",
     "output_type": "stream",
     "text": [
      "[[7 4]\n",
      " [9 7]]\n",
      "[[-5  0]\n",
      " [-3  1]]\n",
      "[[0.16666667 1.        ]\n",
      " [0.5        1.33333333]]\n",
      "[[ 6  4]\n",
      " [18 12]]\n",
      "[[18  8]\n",
      " [42 18]]\n",
      "[[18  8]\n",
      " [42 18]]\n"
     ]
    }
   ],
   "source": [
    "print(a + b)\n",
    "print(a - b)\n",
    "print(a/b) #element-wise division\n",
    "print(a*b)#element-wise multipilcation\n",
    "print(a@b)# matrix multiplication\n",
    "print(a.dot(b))# matrix multiplication"
   ]
  },
  {
   "cell_type": "code",
   "execution_count": 43,
   "metadata": {},
   "outputs": [
    {
     "name": "stdout",
     "output_type": "stream",
     "text": [
      "[[-9 -8]\n",
      " [-7 -6]]\n",
      "[[10 20]\n",
      " [30 40]]\n",
      "[[0.16666667 1.        ]\n",
      " [0.5        1.33333333]]\n",
      "[[11 12]\n",
      " [13 14]]\n"
     ]
    }
   ],
   "source": [
    "# when using matrix and scalar\n",
    "print(a - 10)# broadcasting\n",
    "print(a*10)# broadcasting\n",
    "print(a/b)# broadcasting\n",
    "print(a +10)"
   ]
  },
  {
   "cell_type": "code",
   "execution_count": 45,
   "metadata": {},
   "outputs": [
    {
     "data": {
      "text/plain": [
       "np.int64(1)"
      ]
     },
     "execution_count": 45,
     "metadata": {},
     "output_type": "execute_result"
    }
   ],
   "source": [
    "# indexing\n",
    "a[0,0]"
   ]
  },
  {
   "cell_type": "code",
   "execution_count": 54,
   "metadata": {},
   "outputs": [
    {
     "name": "stdout",
     "output_type": "stream",
     "text": [
      "[[5 1 7 7 1]\n",
      " [9 7 9 8 9]\n",
      " [6 7 8 2 9]\n",
      " [4 6 4 1 5]\n",
      " [8 9 7 8 2]]\n",
      "[5 9 6 4 8]\n",
      "[1 9 9 5 2]\n",
      "[[5 1 7]\n",
      " [9 7 9]\n",
      " [6 7 8]\n",
      " [4 6 4]\n",
      " [8 9 7]]\n",
      "[[7 9 8]\n",
      " [7 8 2]\n",
      " [6 4 1]]\n"
     ]
    }
   ],
   "source": [
    "#slicing\n",
    "b = np.random.randint(1, 10,(5,5))\n",
    "print(b)\n",
    "print(b[:,0])#first column\n",
    "print(b[:,-1])#second column\n",
    "print(b[:,:3])#third column\n",
    "print(b[1:-1,1:-1])"
   ]
  },
  {
   "cell_type": "markdown",
   "metadata": {},
   "source": [
    "boolean filter"
   ]
  },
  {
   "cell_type": "code",
   "execution_count": 9,
   "metadata": {},
   "outputs": [
    {
     "data": {
      "text/plain": [
       "array([[  1,   2,   3,   4],\n",
       "       [  5,   6,   7,   8],\n",
       "       [  9,  10,  11,  12],\n",
       "       [ 13,  14,  15,  16],\n",
       "       [ 17,  18,  19,  20],\n",
       "       [ 21,  22,  23,  24],\n",
       "       [ 25,  26,  27,  28],\n",
       "       [ 29,  30,  31,  32],\n",
       "       [ 33,  34,  35,  36],\n",
       "       [ 37,  38,  39,  40],\n",
       "       [ 41,  42,  43,  44],\n",
       "       [ 45,  46,  47,  48],\n",
       "       [ 49,  50,  51,  52],\n",
       "       [ 53,  54,  55,  56],\n",
       "       [ 57,  58,  59,  60],\n",
       "       [ 61,  62,  63,  64],\n",
       "       [ 65,  66,  67,  68],\n",
       "       [ 69,  70,  71,  72],\n",
       "       [ 73,  74,  75,  76],\n",
       "       [ 77,  78,  79,  80],\n",
       "       [ 81,  82,  83,  84],\n",
       "       [ 85,  86,  87,  88],\n",
       "       [ 89,  90,  91,  92],\n",
       "       [ 93,  94,  95,  96],\n",
       "       [ 97,  98,  99, 100]])"
      ]
     },
     "execution_count": 9,
     "metadata": {},
     "output_type": "execute_result"
    }
   ],
   "source": [
    "x = np.arange(1, 101).reshape(25,4)\n",
    "x"
   ]
  },
  {
   "cell_type": "code",
   "execution_count": 10,
   "metadata": {},
   "outputs": [
    {
     "data": {
      "text/plain": [
       "array([[False, False, False, False],\n",
       "       [False, False, False, False],\n",
       "       [False, False, False, False],\n",
       "       [False, False, False, False],\n",
       "       [False, False, False, False],\n",
       "       [False, False, False, False],\n",
       "       [False, False, False, False],\n",
       "       [False, False, False, False],\n",
       "       [False, False, False, False],\n",
       "       [False, False, False, False],\n",
       "       [False, False, False, False],\n",
       "       [False, False, False, False],\n",
       "       [False,  True,  True,  True],\n",
       "       [ True,  True,  True,  True],\n",
       "       [ True,  True,  True,  True],\n",
       "       [ True,  True,  True,  True],\n",
       "       [ True,  True,  True,  True],\n",
       "       [ True,  True,  True,  True],\n",
       "       [ True,  True,  True,  True],\n",
       "       [ True,  True,  True,  True],\n",
       "       [ True,  True,  True,  True],\n",
       "       [ True,  True,  True,  True],\n",
       "       [ True,  True,  True,  True],\n",
       "       [ True,  True,  True,  True],\n",
       "       [ True,  True,  True,  True]])"
      ]
     },
     "execution_count": 10,
     "metadata": {},
     "output_type": "execute_result"
    }
   ],
   "source": [
    "x>=50 # boolean filter"
   ]
  },
  {
   "cell_type": "code",
   "execution_count": 11,
   "metadata": {},
   "outputs": [
    {
     "data": {
      "text/plain": [
       "array([ 50,  51,  52,  53,  54,  55,  56,  57,  58,  59,  60,  61,  62,\n",
       "        63,  64,  65,  66,  67,  68,  69,  70,  71,  72,  73,  74,  75,\n",
       "        76,  77,  78,  79,  80,  81,  82,  83,  84,  85,  86,  87,  88,\n",
       "        89,  90,  91,  92,  93,  94,  95,  96,  97,  98,  99, 100])"
      ]
     },
     "execution_count": 11,
     "metadata": {},
     "output_type": "execute_result"
    }
   ],
   "source": [
    "x[x>=50]# only value >= 50"
   ]
  },
  {
   "cell_type": "code",
   "execution_count": 13,
   "metadata": {},
   "outputs": [
    {
     "data": {
      "text/plain": [
       "array([25, 26, 27, 28, 29, 30, 31, 32, 33, 34, 35, 36, 37, 38, 39, 40, 41,\n",
       "       42, 43, 44, 45, 46, 47, 48, 49, 50, 51, 52, 53, 54, 55, 56, 57, 58,\n",
       "       59, 60, 61, 62, 63, 64, 65, 66, 67, 68, 69, 70, 71, 72, 73, 74, 75])"
      ]
     },
     "execution_count": 13,
     "metadata": {},
     "output_type": "execute_result"
    }
   ],
   "source": [
    "x[(x>=25)& (x<=75)]# bitwise & for multiple filters"
   ]
  },
  {
   "cell_type": "code",
   "execution_count": 14,
   "metadata": {},
   "outputs": [
    {
     "data": {
      "text/plain": [
       "array([[1, 0, 0, 0, 0],\n",
       "       [0, 1, 0, 0, 0],\n",
       "       [0, 0, 1, 0, 0],\n",
       "       [0, 0, 0, 1, 0],\n",
       "       [0, 0, 0, 0, 1]])"
      ]
     },
     "execution_count": 14,
     "metadata": {},
     "output_type": "execute_result"
    }
   ],
   "source": [
    "np.eye(5, dtype = int)"
   ]
  },
  {
   "cell_type": "code",
   "execution_count": 15,
   "metadata": {},
   "outputs": [
    {
     "data": {
      "text/plain": [
       "array([[1, 0, 0, 0, 0, 0],\n",
       "       [0, 2, 0, 0, 0, 0],\n",
       "       [0, 0, 3, 0, 0, 0],\n",
       "       [0, 0, 0, 4, 0, 0],\n",
       "       [0, 0, 0, 0, 5, 0],\n",
       "       [0, 0, 0, 0, 0, 6]])"
      ]
     },
     "execution_count": 15,
     "metadata": {},
     "output_type": "execute_result"
    }
   ],
   "source": [
    "np.diag([1,2,3,4,5,6])"
   ]
  },
  {
   "cell_type": "code",
   "execution_count": 16,
   "metadata": {},
   "outputs": [],
   "source": [
    "np.set_printoptions(precision=3)\n"
   ]
  },
  {
   "cell_type": "code",
   "execution_count": 17,
   "metadata": {},
   "outputs": [
    {
     "data": {
      "text/plain": [
       "array([[0.213, 0.655, 0.317],\n",
       "       [0.123, 0.678, 0.712],\n",
       "       [0.045, 0.448, 0.524]])"
      ]
     },
     "execution_count": 17,
     "metadata": {},
     "output_type": "execute_result"
    }
   ],
   "source": [
    "np.random.rand(3,3)"
   ]
  },
  {
   "cell_type": "code",
   "execution_count": 18,
   "metadata": {},
   "outputs": [
    {
     "data": {
      "text/plain": [
       "array([[1., 1., 1.],\n",
       "       [1., 1., 1.],\n",
       "       [1., 1., 1.]])"
      ]
     },
     "execution_count": 18,
     "metadata": {},
     "output_type": "execute_result"
    }
   ],
   "source": [
    "np.ones((3,3))#3x3"
   ]
  },
  {
   "cell_type": "code",
   "execution_count": 24,
   "metadata": {},
   "outputs": [
    {
     "data": {
      "text/plain": [
       "array([[1, 1, 1],\n",
       "       [1, 1, 1],\n",
       "       [1, 1, 1]])"
      ]
     },
     "execution_count": 24,
     "metadata": {},
     "output_type": "execute_result"
    }
   ],
   "source": [
    "np.ones((3,3), dtype=int)"
   ]
  },
  {
   "cell_type": "code",
   "execution_count": 20,
   "metadata": {},
   "outputs": [
    {
     "data": {
      "text/plain": [
       "array([[0., 0., 0.],\n",
       "       [0., 0., 0.],\n",
       "       [0., 0., 0.]])"
      ]
     },
     "execution_count": 20,
     "metadata": {},
     "output_type": "execute_result"
    }
   ],
   "source": [
    "np.zeros((3,3))#3x3"
   ]
  },
  {
   "cell_type": "code",
   "execution_count": 21,
   "metadata": {},
   "outputs": [
    {
     "data": {
      "text/plain": [
       "array([[ 0.841,  0.909,  0.141, -0.757],\n",
       "       [-0.959, -0.279,  0.657,  0.989],\n",
       "       [ 0.412, -0.544, -1.   , -0.537],\n",
       "       [ 0.42 ,  0.991,  0.65 , -0.288],\n",
       "       [-0.961, -0.751,  0.15 ,  0.913],\n",
       "       [ 0.837, -0.009, -0.846, -0.906],\n",
       "       [-0.132,  0.763,  0.956,  0.271],\n",
       "       [-0.664, -0.988, -0.404,  0.551],\n",
       "       [ 1.   ,  0.529, -0.428, -0.992],\n",
       "       [-0.644,  0.296,  0.964,  0.745],\n",
       "       [-0.159, -0.917, -0.832,  0.018],\n",
       "       [ 0.851,  0.902,  0.124, -0.768],\n",
       "       [-0.954, -0.262,  0.67 ,  0.987],\n",
       "       [ 0.396, -0.559, -1.   , -0.522],\n",
       "       [ 0.436,  0.993,  0.637, -0.305],\n",
       "       [-0.966, -0.739,  0.167,  0.92 ],\n",
       "       [ 0.827, -0.027, -0.856, -0.898],\n",
       "       [-0.115,  0.774,  0.951,  0.254],\n",
       "       [-0.677, -0.985, -0.388,  0.566],\n",
       "       [ 1.   ,  0.514, -0.444, -0.994],\n",
       "       [-0.63 ,  0.313,  0.968,  0.733],\n",
       "       [-0.176, -0.923, -0.822,  0.035],\n",
       "       [ 0.86 ,  0.894,  0.106, -0.779],\n",
       "       [-0.948, -0.245,  0.683,  0.984],\n",
       "       [ 0.38 , -0.573, -0.999, -0.506]])"
      ]
     },
     "execution_count": 21,
     "metadata": {},
     "output_type": "execute_result"
    }
   ],
   "source": [
    "np.sin(x)"
   ]
  },
  {
   "cell_type": "code",
   "execution_count": 23,
   "metadata": {},
   "outputs": [
    {
     "name": "stdout",
     "output_type": "stream",
     "text": [
      "[[ 0.54  -0.416 -0.99  -0.654]\n",
      " [ 0.284  0.96   0.754 -0.146]\n",
      " [-0.911 -0.839  0.004  0.844]\n",
      " [ 0.907  0.137 -0.76  -0.958]\n",
      " [-0.275  0.66   0.989  0.408]\n",
      " [-0.548 -1.    -0.533  0.424]\n",
      " [ 0.991  0.647 -0.292 -0.963]\n",
      " [-0.748  0.154  0.915  0.834]\n",
      " [-0.013 -0.849 -0.904 -0.128]\n",
      " [ 0.765  0.955  0.267 -0.667]\n",
      " [-0.987 -0.4    0.555  1.   ]\n",
      " [ 0.525 -0.432 -0.992 -0.64 ]\n",
      " [ 0.301  0.965  0.742 -0.163]\n",
      " [-0.918 -0.829  0.022  0.853]\n",
      " [ 0.9    0.119 -0.771 -0.952]\n",
      " [-0.258  0.674  0.986  0.392]\n",
      " [-0.562 -1.    -0.518  0.44 ]\n",
      " [ 0.993  0.633 -0.309 -0.967]\n",
      " [-0.736  0.172  0.922  0.824]\n",
      " [-0.031 -0.858 -0.896 -0.11 ]\n",
      " [ 0.777  0.95   0.25  -0.68 ]\n",
      " [-0.984 -0.384  0.57   0.999]\n",
      " [ 0.51  -0.448 -0.994 -0.626]\n",
      " [ 0.317  0.969  0.73  -0.18 ]\n",
      " [-0.925 -0.819  0.04   0.862]]\n",
      "[[ 1.557e+00 -2.185e+00 -1.425e-01  1.158e+00]\n",
      " [-3.381e+00 -2.910e-01  8.714e-01 -6.800e+00]\n",
      " [-4.523e-01  6.484e-01 -2.260e+02 -6.359e-01]\n",
      " [ 4.630e-01  7.245e+00 -8.560e-01  3.006e-01]\n",
      " [ 3.494e+00 -1.137e+00  1.516e-01  2.237e+00]\n",
      " [-1.527e+00  8.852e-03  1.588e+00 -2.135e+00]\n",
      " [-1.335e-01  1.179e+00 -3.274e+00 -2.814e-01]\n",
      " [ 8.871e-01 -6.405e+00 -4.417e-01  6.610e-01]\n",
      " [-7.531e+01 -6.235e-01  4.738e-01  7.750e+00]\n",
      " [-8.408e-01  3.103e-01  3.615e+00 -1.117e+00]\n",
      " [ 1.607e-01  2.291e+00 -1.498e+00  1.770e-02]\n",
      " [ 1.620e+00 -2.087e+00 -1.245e-01  1.200e+00]\n",
      " [-3.173e+00 -2.719e-01  9.031e-01 -6.053e+00]\n",
      " [-4.312e-01  6.738e-01 -4.518e+01 -6.113e-01]\n",
      " [ 4.847e-01  8.331e+00 -8.258e-01  3.200e-01]\n",
      " [ 3.743e+00 -1.098e+00  1.697e-01  2.348e+00]\n",
      " [-1.470e+00  2.656e-02  1.652e+00 -2.040e+00]\n",
      " [-1.155e-01  1.222e+00 -3.078e+00 -2.624e-01]\n",
      " [ 9.193e-01 -5.737e+00 -4.207e-01  6.867e-01]\n",
      " [-3.227e+01 -5.992e-01  4.957e-01  9.004e+00]\n",
      " [-8.110e-01  3.298e-01  3.881e+00 -1.078e+00]\n",
      " [ 1.789e-01  2.407e+00 -1.442e+00  3.542e-02]\n",
      " [ 1.686e+00 -1.995e+00 -1.066e-01  1.244e+00]\n",
      " [-2.987e+00 -2.530e-01  9.358e-01 -5.451e+00]\n",
      " [-4.103e-01  6.999e-01 -2.509e+01 -5.872e-01]]\n",
      "[[1.543e+00 3.762e+00 1.007e+01 2.731e+01]\n",
      " [7.421e+01 2.017e+02 5.483e+02 1.490e+03]\n",
      " [4.052e+03 1.101e+04 2.994e+04 8.138e+04]\n",
      " [2.212e+05 6.013e+05 1.635e+06 4.443e+06]\n",
      " [1.208e+07 3.283e+07 8.924e+07 2.426e+08]\n",
      " [6.594e+08 1.792e+09 4.872e+09 1.324e+10]\n",
      " [3.600e+10 9.786e+10 2.660e+11 7.231e+11]\n",
      " [1.966e+12 5.343e+12 1.452e+13 3.948e+13]\n",
      " [1.073e+14 2.917e+14 7.930e+14 2.156e+15]\n",
      " [5.860e+15 1.593e+16 4.330e+16 1.177e+17]\n",
      " [3.199e+17 8.696e+17 2.364e+18 6.426e+18]\n",
      " [1.747e+19 4.748e+19 1.291e+20 3.508e+20]\n",
      " [9.537e+20 2.592e+21 7.047e+21 1.916e+22]\n",
      " [5.207e+22 1.415e+23 3.847e+23 1.046e+24]\n",
      " [2.843e+24 7.728e+24 2.101e+25 5.710e+25]\n",
      " [1.552e+26 4.219e+26 1.147e+27 3.118e+27]\n",
      " [8.474e+27 2.304e+28 6.262e+28 1.702e+29]\n",
      " [4.627e+29 1.258e+30 3.419e+30 9.293e+30]\n",
      " [2.526e+31 6.867e+31 1.867e+32 5.074e+32]\n",
      " [1.379e+33 3.749e+33 1.019e+34 2.770e+34]\n",
      " [7.530e+34 2.047e+35 5.564e+35 1.513e+36]\n",
      " [4.112e+36 1.118e+37 3.038e+37 8.258e+37]\n",
      " [2.245e+38 6.102e+38 1.659e+39 4.509e+39]\n",
      " [1.226e+40 3.332e+40 9.056e+40 2.462e+41]\n",
      " [6.692e+41 1.819e+42 4.945e+42 1.344e+43]]\n"
     ]
    }
   ],
   "source": [
    "print(np.cos(x))\n",
    "print(np.tan(x))\n",
    "print(np.cosh(x))\n"
   ]
  },
  {
   "cell_type": "code",
   "execution_count": 32,
   "metadata": {},
   "outputs": [],
   "source": [
    "t = np.arange(-5 ,5 ,.05)\n",
    "x = np.sin(t)\n",
    "y = np.cos(t)"
   ]
  },
  {
   "cell_type": "code",
   "execution_count": 33,
   "metadata": {},
   "outputs": [
    {
     "data": {
      "text/plain": [
       "[<matplotlib.lines.Line2D at 0x16ddb776690>]"
      ]
     },
     "execution_count": 33,
     "metadata": {},
     "output_type": "execute_result"
    },
    {
     "data": {
      "image/png": "[encoded data removed]",
      "text/plain": [
       "<Figure size 640x480 with 1 Axes>"
      ]
     },
     "metadata": {},
     "output_type": "display_data"
    }
   ],
   "source": [
    "import matplotlib.pyplot as plt\n",
    "plt.plot(t,x)\n",
    "plt.plot(t,y)"
   ]
  },
  {
   "cell_type": "markdown",
   "metadata": {},
   "source": [
    "visualization"
   ]
  },
  {
   "cell_type": "code",
   "execution_count": 84,
   "metadata": {},
   "outputs": [
    {
     "name": "stderr",
     "output_type": "stream",
     "text": [
      "C:\\Users\\asus\\AppData\\Local\\Temp\\ipykernel_9232\\1006010024.py:13: UserWarning: linestyle is redundantly defined by the 'linestyle' keyword argument and the fmt string \"ro--\" (-> linestyle='--'). The keyword argument will take precedence.\n",
      "  ax.plot(x, y, 'ro--', linewidth=1.5, markersize=10,markerfacecolor='yellow',\n",
      "C:\\Users\\asus\\AppData\\Local\\Temp\\ipykernel_9232\\1006010024.py:13: UserWarning: marker is redundantly defined by the 'marker' keyword argument and the fmt string \"ro--\" (-> marker='o'). The keyword argument will take precedence.\n",
      "  ax.plot(x, y, 'ro--', linewidth=1.5, markersize=10,markerfacecolor='yellow',\n",
      "C:\\Users\\asus\\AppData\\Local\\Temp\\ipykernel_9232\\1006010024.py:13: UserWarning: color is redundantly defined by the 'color' keyword argument and the fmt string \"ro--\" (-> color='r'). The keyword argument will take precedence.\n",
      "  ax.plot(x, y, 'ro--', linewidth=1.5, markersize=10,markerfacecolor='yellow',\n"
     ]
    },
    {
     "data": {
      "text/plain": [
       "<matplotlib.patches.Rectangle at 0x16de37c8450>"
      ]
     },
     "execution_count": 84,
     "metadata": {},
     "output_type": "execute_result"
    },
    {
     "data": {
      "image/png": "[encoded data removed]",
      "text/plain": [
       "<Figure size 640x480 with 1 Axes>"
      ]
     },
     "metadata": {},
     "output_type": "display_data"
    }
   ],
   "source": [
    "fig, ax=plt.subplots()\n",
    "fig.set_facecolor('red')\n",
    "ax.set_facecolor('blue')\n",
    "\n",
    "ax.set_xlabel('time') #plt.xlabel('time)\n",
    "ax.set_ylabel('amplitude') # plt.ylabel('amplitude)\n",
    "\n",
    "ax.set_title('sine wave') #plt.title('sinusoidal')\n",
    "\n",
    "x =[1,2,3,4,5,6,7,8,9,10]\n",
    "y =[23,56,67,34,12,56,23,56,78,23]\n",
    "\n",
    "ax.plot(x, y, 'ro--', linewidth=1.5, markersize=10,markerfacecolor='yellow',\n",
    "        markeredgecolor='black',\n",
    "        markeredgewidth=3,\n",
    "        color='green',\n",
    "        marker='h',\n",
    "        linestyle=':',\n",
    "        alpha=.8)\n",
    "# horizontal line\n",
    "ax.axhline(50,color='black',linewidth=2,alpha=.4)\n",
    "ax.axvline(3, linewidth=2,color='k',alpha=.4)\n",
    "ax.text(3.2,52,\"above threshold\")\n",
    "ax.text(3.2,46,\"below threshold\")\n",
    "#rectangle\n",
    "ax.axvspan(3,6,color='yellow',alpha=.2)\n",
    "ax.axvspan(0,3,color='orange',alpha=.2)"
   ]
  },
  {
   "cell_type": "code",
   "execution_count": 88,
   "metadata": {},
   "outputs": [
    {
     "data": {
      "text/plain": [
       "Text(0.5, 1.0, 'scatter plot')"
      ]
     },
     "execution_count": 88,
     "metadata": {},
     "output_type": "execute_result"
    },
    {
     "data": {
      "image/png": "[encoded data removed]",
      "text/plain": [
       "<Figure size 1000x500 with 2 Axes>"
      ]
     },
     "metadata": {},
     "output_type": "display_data"
    }
   ],
   "source": [
    "fig, (ax1,ax2)= plt.subplots(1,2, figsize=(10,5))#1 row, 2 columns\n",
    "x=np.arange(1, 101)\n",
    "y=np.random.uniform(1, 10, 100)\n",
    "ax1.plot(x, y)\n",
    "ax2.scatter(x,y, s=100,c='red',alpha=.5)\n",
    "ax1.set_title('line plot')\n",
    "ax2.set_title('scatter plot')"
   ]
  },
  {
   "cell_type": "code",
   "execution_count": null,
   "metadata": {},
   "outputs": [],
   "source": []
  }
 ],
 "metadata": {
  "kernelspec": {
   "display_name": "base",
   "language": "python",
   "name": "python3"
  },
  "language_info": {
   "codemirror_mode": {
    "name": "ipython",
    "version": 3
   },
   "file_extension": ".py",
   "mimetype": "text/x-python",
   "name": "python",
   "nbconvert_exporter": "python",
   "pygments_lexer": "ipython3",
   "version": "3.11.5"
  }
 },
 "nbformat": 4,
 "nbformat_minor": 2
}
