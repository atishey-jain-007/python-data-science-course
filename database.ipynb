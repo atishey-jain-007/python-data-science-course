{
 "cells": [
  {
   "cell_type": "markdown",
   "metadata": {},
   "source": [
    "#SQLalchemy\n",
    " - Databse<->Python"
   ]
  },
  {
   "cell_type": "code",
   "execution_count": 2,
   "metadata": {},
   "outputs": [],
   "source": [
    "from sqlalchemy import create_engine\n",
    "from sqlalchemy.orm import sessionmaker, declarative_base\n",
    "from sqlalchemy import Column, Integer,String,DateTime\n",
    "from datetime import datetime"
   ]
  },
  {
   "cell_type": "code",
   "execution_count": 3,
   "metadata": {},
   "outputs": [],
   "source": [
    "Base = declarative_base()\n",
    "class Task(Base):\n",
    "    __tablename__='tasks'\n",
    "    id = Column(Integer,primary_key=True)\n",
    "    task = Column(String)\n",
    "    deadline = Column(DateTime,default=datetime.now())\n",
    "\n"
   ]
  },
  {
   "cell_type": "code",
   "execution_count": 4,
   "metadata": {},
   "outputs": [
    {
     "name": "stdout",
     "output_type": "stream",
     "text": [
      "2024-08-22 14:12:48,491 INFO sqlalchemy.engine.Engine BEGIN (implicit)\n",
      "2024-08-22 14:12:48,496 INFO sqlalchemy.engine.Engine PRAGMA main.table_info(\"tasks\")\n",
      "2024-08-22 14:12:48,496 INFO sqlalchemy.engine.Engine [raw sql] ()\n",
      "2024-08-22 14:12:48,500 INFO sqlalchemy.engine.Engine COMMIT\n"
     ]
    }
   ],
   "source": [
    "engine =create_engine(\"sqlite:///mydb.sqlite3\", echo=True)\n",
    "Base.metadata.create_all(engine)"
   ]
  },
  {
   "cell_type": "code",
   "execution_count": 5,
   "metadata": {},
   "outputs": [],
   "source": [
    "def open_db():\n",
    "    engine =create_engine(\"sqlite:///mydb.sqlite3\")\n",
    "    Session = sessionmaker(bind=engine)\n",
    "    return Session()"
   ]
  },
  {
   "cell_type": "code",
   "execution_count": 7,
   "metadata": {},
   "outputs": [],
   "source": [
    "# adding new value\n",
    "db = open_db()\n",
    "db.add(Task(task=\"Learn SQLAlchemy\", deadline=datetime(2024,8,1)))\n",
    "db.add(Task(task=\"Happy independence Day\"))\n",
    "db.add(Task(task=\"Take out the trash\"))\n",
    "db.add(Task(task=\"Clean the fridge\", deadline=datetime(2024,8,23)))\n",
    "db.add(Task(task=\"Generate reports\", deadline=datetime(2024,8,16)))\n",
    "db.add(Task(task=\"Pay subscription fees\",deadline=datetime(2024,8,18)))\n",
    "db.add(Task(task=\"Celebrate birtihday\",deadline=datetime(2024,8,25)))\n",
    "db.commit()\n",
    "db.close()"
   ]
  },
  {
   "cell_type": "markdown",
   "metadata": {},
   "source": [
    "querying the database\n",
    "- get all the data\n",
    "- get specific data using filter\n"
   ]
  },
  {
   "cell_type": "code",
   "execution_count": 8,
   "metadata": {},
   "outputs": [
    {
     "name": "stdout",
     "output_type": "stream",
     "text": [
      "#1 |Learn SQLAlchemy               |2024-08-01 |00:00:00\n",
      "#2 |Happy independence Day         |2024-08-14 |18:51:02.706632\n",
      "#3 |Learn SQLAlchemy               |2024-08-01 |00:00:00\n",
      "#4 |Happy independence Day         |2024-08-22 |14:12:48.115000\n",
      "#5 |Take out the trash             |2024-08-22 |14:12:48.115000\n",
      "#6 |Clean the fridge               |2024-08-23 |00:00:00\n",
      "#7 |Generate reports               |2024-08-16 |00:00:00\n",
      "#8 |Pay subscription fees          |2024-08-18 |00:00:00\n",
      "#9 |Celebrate birtihday            |2024-08-25 |00:00:00\n",
      "#10 |Learn SQLAlchemy               |2024-08-01 |00:00:00\n",
      "#11 |Happy independence Day         |2024-08-22 |14:12:48.115000\n",
      "#12 |Take out the trash             |2024-08-22 |14:12:48.115000\n",
      "#13 |Clean the fridge               |2024-08-23 |00:00:00\n",
      "#14 |Generate reports               |2024-08-16 |00:00:00\n",
      "#15 |Pay subscription fees          |2024-08-18 |00:00:00\n",
      "#16 |Celebrate birtihday            |2024-08-25 |00:00:00\n"
     ]
    }
   ],
   "source": [
    "# all the data\n",
    "db =open_db() # open the database\n",
    "tasks =db.query(Task).all()\n",
    "for item in tasks:\n",
    "    print(f'#{item.id} |{item.task:30} |{item.deadline.date()} |{item.deadline.time()}')\n",
    "db.close() #close database"
   ]
  },
  {
   "cell_type": "code",
   "execution_count": 10,
   "metadata": {},
   "outputs": [
    {
     "name": "stdout",
     "output_type": "stream",
     "text": [
      "#6 |Clean the fridge               |2024-08-23 |00:00:00\n"
     ]
    }
   ],
   "source": [
    "# get item by id\n",
    "id = 6\n",
    "db =open_db()\n",
    "task = db.get(Task,id)\n",
    "if task:\n",
    "    print(f'#{task.id} |{task.task:30} |{task.deadline.date()} |{task.deadline.time()}')\n"
   ]
  },
  {
   "cell_type": "code",
   "execution_count": 12,
   "metadata": {},
   "outputs": [
    {
     "name": "stdout",
     "output_type": "stream",
     "text": [
      "#5 |Take out the trash             |2024-08-22 |14:12:48.115000\n",
      "#12 |Take out the trash             |2024-08-22 |14:12:48.115000\n"
     ]
    }
   ],
   "source": [
    "# filter item by title\n",
    "title ='Take out the trash'\n",
    "db = open_db()\n",
    "tasks=db.query(Task).filter(Task.task==title).all()\n",
    "for item in tasks:\n",
    "    print(f'#{item.id} |{item.task:30} |{item.deadline.date()} |{item.deadline.time()}')\n",
    "db.close()\n",
    "    "
   ]
  },
  {
   "cell_type": "code",
   "execution_count": 15,
   "metadata": {},
   "outputs": [
    {
     "name": "stdout",
     "output_type": "stream",
     "text": [
      "#7 |Generate reports               | 2024-08-16| 00:00:00\n",
      "#14 |Generate reports               | 2024-08-16| 00:00:00\n"
     ]
    }
   ],
   "source": [
    "# filter by date\n",
    "date ='16-08-2024'\n",
    "date = datetime.strptime(date,\"%d-%m-%Y\")\n",
    "db =open_db()\n",
    "tasks=db.query(Task).filter(Task.deadline==date).all()\n",
    "for item in tasks:\n",
    "    print(f'#{item.id} |{item.task:30} | {item.deadline.date()}| {item.deadline.time()}')\n",
    "db.close()\n"
   ]
  },
  {
   "cell_type": "code",
   "execution_count": 16,
   "metadata": {},
   "outputs": [
    {
     "name": "stdout",
     "output_type": "stream",
     "text": [
      "#2 |Happy independence Day         | 2024-08-14|18:51:02.706632\n",
      "#4 |Happy independence Day         | 2024-08-22|14:12:48.115000\n",
      "#9 |Celebrate birtihday            | 2024-08-25|00:00:00\n",
      "#11 |Happy independence Day         | 2024-08-22|14:12:48.115000\n",
      "#16 |Celebrate birtihday            | 2024-08-25|00:00:00\n"
     ]
    }
   ],
   "source": [
    "db = open_db()\n",
    "tasks =db.query(Task).filter(Task.task.icontains(\"day\")).all()\n",
    "for item in tasks:\n",
    "    print(f'#{item.id} |{item.task:30} | {item.deadline.date()}|{item.deadline.time()}')\n",
    "    "
   ]
  },
  {
   "cell_type": "code",
   "execution_count": 18,
   "metadata": {},
   "outputs": [],
   "source": [
    "# update item\n",
    "id = 7\n",
    "db =open_db()\n",
    "result = db.get(Task,id)\n",
    "if result:\n",
    "    result.task =\"Generate students reports\"\n",
    "    result.deadline = datetime(2024, 8,20)\n",
    "    db.commit()\n",
    "db.close()\n",
    "\n"
   ]
  },
  {
   "cell_type": "code",
   "execution_count": 19,
   "metadata": {},
   "outputs": [
    {
     "name": "stdout",
     "output_type": "stream",
     "text": [
      "Item deleted\n"
     ]
    }
   ],
   "source": [
    "#delete item\n",
    "id = 6\n",
    "db = open_db()\n",
    "result = db.get(Task,id)\n",
    "if result:\n",
    "    db.delete(result)\n",
    "    db.commit()\n",
    "    print(\"Item deleted\")\n",
    "db.close()"
   ]
  },
  {
   "cell_type": "code",
   "execution_count": null,
   "metadata": {},
   "outputs": [],
   "source": []
  }
 ],
 "metadata": {
  "kernelspec": {
   "display_name": "base",
   "language": "python",
   "name": "python3"
  },
  "language_info": {
   "codemirror_mode": {
    "name": "ipython",
    "version": 3
   },
   "file_extension": ".py",
   "mimetype": "text/x-python",
   "name": "python",
   "nbconvert_exporter": "python",
   "pygments_lexer": "ipython3",
   "version": "3.11.5"
  }
 },
 "nbformat": 4,
 "nbformat_minor": 2
}
