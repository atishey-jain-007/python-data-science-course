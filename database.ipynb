{
 "cells": [
  {
   "cell_type": "markdown",
   "metadata": {},
   "source": [
    "#SQLalchemy\n",
    " - Databse<->Python"
   ]
  },
  {
   "cell_type": "code",
   "execution_count": 1,
   "metadata": {},
   "outputs": [],
   "source": [
    "from sqlalchemy import create_engine\n",
    "from sqlalchemy.orm import sessionmaker, declarative_base\n",
    "from sqlalchemy import Column, Integer,String,DateTime\n",
    "from datetime import datetime"
   ]
  },
  {
   "cell_type": "code",
   "execution_count": 3,
   "metadata": {},
   "outputs": [],
   "source": [
    "Base = declarative_base()\n",
    "class Task(Base):\n",
    "    __tablename__='tasks'\n",
    "    id = Column(Integer,primary_key=True)\n",
    "    task = Column(String)\n",
    "    deadline = Column(DateTime,default=datetime.now())\n",
    "\n"
   ]
  },
  {
   "cell_type": "code",
   "execution_count": 5,
   "metadata": {},
   "outputs": [
    {
     "name": "stdout",
     "output_type": "stream",
     "text": [
      "2024-08-14 18:53:07,754 INFO sqlalchemy.engine.Engine BEGIN (implicit)\n",
      "2024-08-14 18:53:07,756 INFO sqlalchemy.engine.Engine PRAGMA main.table_info(\"tasks\")\n",
      "2024-08-14 18:53:07,756 INFO sqlalchemy.engine.Engine [raw sql] ()\n",
      "2024-08-14 18:53:07,766 INFO sqlalchemy.engine.Engine PRAGMA temp.table_info(\"tasks\")\n",
      "2024-08-14 18:53:07,766 INFO sqlalchemy.engine.Engine [raw sql] ()\n",
      "2024-08-14 18:53:07,775 INFO sqlalchemy.engine.Engine \n",
      "CREATE TABLE tasks (\n",
      "\tid INTEGER NOT NULL, \n",
      "\ttask VARCHAR, \n",
      "\tdeadline DATETIME, \n",
      "\tPRIMARY KEY (id)\n",
      ")\n",
      "\n",
      "\n",
      "2024-08-14 18:53:07,775 INFO sqlalchemy.engine.Engine [no key 0.00313s] ()\n",
      "2024-08-14 18:53:07,815 INFO sqlalchemy.engine.Engine COMMIT\n"
     ]
    }
   ],
   "source": [
    "engine =create_engine(\"sqlite:///mydb.sqlite3\", echo=True)\n",
    "Base.metadata.create_all(engine)"
   ]
  },
  {
   "cell_type": "code",
   "execution_count": 11,
   "metadata": {},
   "outputs": [],
   "source": [
    "def open_db():\n",
    "    engine =create_engine(\"sqlite:///mydb.sqlite3\")\n",
    "    Session = sessionmaker(bind=engine)\n",
    "    return Session()"
   ]
  },
  {
   "cell_type": "code",
   "execution_count": 12,
   "metadata": {},
   "outputs": [],
   "source": [
    "db = open_db()\n",
    "db.add(Task(task=\"Learn SQLAlchemy\", deadline=datetime(2024,8,1)))\n",
    "db.add(Task(task=\"Happy independence Day\"))\n",
    "db.commit()\n",
    "db.close()"
   ]
  },
  {
   "cell_type": "code",
   "execution_count": null,
   "metadata": {},
   "outputs": [],
   "source": []
  }
 ],
 "metadata": {
  "kernelspec": {
   "display_name": "base",
   "language": "python",
   "name": "python3"
  },
  "language_info": {
   "codemirror_mode": {
    "name": "ipython",
    "version": 3
   },
   "file_extension": ".py",
   "mimetype": "text/x-python",
   "name": "python",
   "nbconvert_exporter": "python",
   "pygments_lexer": "ipython3",
   "version": "3.11.5"
  }
 },
 "nbformat": 4,
 "nbformat_minor": 2
}
