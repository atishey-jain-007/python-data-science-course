{
 "cells": [
  {
   "cell_type": "markdown",
   "metadata": {},
   "source": [
    "# function syntx\n",
    "# creating a function\n",
    "def func_name(param1,param2,...):\n",
    "#code here\n",
    "#....\n",
    "return result\n",
    "# use a function/call a function\n",
    "result = func_name(arg1,arg2,...)\n"
   ]
  },
  {
   "cell_type": "code",
   "execution_count": 8,
   "metadata": {},
   "outputs": [],
   "source": [
    "def si(p,r,t):\n",
    "    return p*r*t/100"
   ]
  },
  {
   "cell_type": "code",
   "execution_count": null,
   "metadata": {},
   "outputs": [],
   "source": [
    "si(12000,3.33,5)"
   ]
  },
  {
   "cell_type": "code",
   "execution_count": 5,
   "metadata": {},
   "outputs": [],
   "source": [
    "def info(l,w):\n",
    "    area = l*w\n",
    "    perimeter = 2*(l+w)\n",
    "    return area, perimeter"
   ]
  },
  {
   "cell_type": "code",
   "execution_count": 6,
   "metadata": {},
   "outputs": [
    {
     "data": {
      "text/plain": [
       "(1000, 140)"
      ]
     },
     "execution_count": 6,
     "metadata": {},
     "output_type": "execute_result"
    }
   ],
   "source": [
    "info(20,50)"
   ]
  },
  {
   "cell_type": "code",
   "execution_count": 9,
   "metadata": {},
   "outputs": [
    {
     "name": "stdout",
     "output_type": "stream",
     "text": [
      "area:200,perimeter: 60\n"
     ]
    }
   ],
   "source": [
    "a,p = info(20,10)#tuple unpacking\n",
    "print(f'area:{a},perimeter: {p}')"
   ]
  },
  {
   "cell_type": "code",
   "execution_count": 24,
   "metadata": {},
   "outputs": [],
   "source": [
    "def acronym(name):\n",
    "     result  = ''\n",
    "     for word in name.split():\n",
    "          #print(word[0])\n",
    "          result+=word[0] #first letter\n",
    "     return result"
   ]
  },
  {
   "cell_type": "code",
   "execution_count": 25,
   "metadata": {},
   "outputs": [
    {
     "data": {
      "text/plain": [
       "'usoa'"
      ]
     },
     "execution_count": 25,
     "metadata": {},
     "output_type": "execute_result"
    }
   ],
   "source": [
    "acronym(\"united state of america\")"
   ]
  },
  {
   "cell_type": "code",
   "execution_count": 26,
   "metadata": {},
   "outputs": [
    {
     "name": "stdout",
     "output_type": "stream",
     "text": [
      "['sam altman', 'guido von rossum', 'tim bell']\n",
      "['sa', 'gvr', 'tb']\n"
     ]
    }
   ],
   "source": [
    "names = ['sam altman', 'guido von rossum','tim bell']\n",
    "acr = [acronym(name) for name in names]\n",
    "print(names)\n",
    "print(acr)"
   ]
  },
  {
   "cell_type": "markdown",
   "metadata": {},
   "source": [
    "- default parameters\n",
    "- variables arguments\n",
    "- lambda expression"
   ]
  },
  {
   "cell_type": "code",
   "execution_count": 31,
   "metadata": {},
   "outputs": [
    {
     "name": "stdout",
     "output_type": "stream",
     "text": [
      "25\n",
      "9765625\n",
      "125\n"
     ]
    }
   ],
   "source": [
    "def power (number,exp = 2):\n",
    "    return number**exp\n",
    "print(power(5))\n",
    "print(power(5 , 10))\n",
    "print(power(5 ,3))"
   ]
  },
  {
   "cell_type": "code",
   "execution_count": 33,
   "metadata": {},
   "outputs": [
    {
     "name": "stdout",
     "output_type": "stream",
     "text": [
      "0\n",
      "120\n",
      "14\n",
      "5\n",
      "8\n",
      "28\n"
     ]
    }
   ],
   "source": [
    "def summer(a=0,b=0,c=0,d=0):\n",
    "    return a+b+c+d\n",
    "\n",
    "print(summer())\n",
    "print(summer(120))\n",
    "print(summer(2,3,4,5))\n",
    "print(summer(2,3))\n",
    "print(summer(a =2, c =6))\n",
    "print(summer(a =2, c =6, d = 20))\n"
   ]
  },
  {
   "cell_type": "code",
   "execution_count": 34,
   "metadata": {},
   "outputs": [
    {
     "data": {
      "text/plain": [
       "10"
      ]
     },
     "execution_count": 34,
     "metadata": {},
     "output_type": "execute_result"
    }
   ],
   "source": [
    "sum([1,2,3,4])"
   ]
  },
  {
   "cell_type": "code",
   "execution_count": 43,
   "metadata": {},
   "outputs": [
    {
     "name": "stdout",
     "output_type": "stream",
     "text": [
      "50\n",
      "12.5\n",
      "1\n",
      "3\n"
     ]
    }
   ],
   "source": [
    "def stats(*numbers, action ='sum'):\n",
    "    if action =='sum':\n",
    "        return sum(numbers)\n",
    "    if action == 'mean':\n",
    "     return sum(numbers)/len(numbers) \n",
    "    if action =='count':\n",
    "       return len(numbers)\n",
    "    if action == 'min':\n",
    "       return min(numbers)\n",
    "    \n",
    "print(stats(11,12,13,14))\n",
    "print(stats(11,12,13,14, action='mean'))\n",
    "print(stats(1,1,1,2,1,3,1,4, action='min'))\n",
    "print(stats(11,12,13, action='count'))"
   ]
  },
  {
   "cell_type": "code",
   "execution_count": 51,
   "metadata": {},
   "outputs": [],
   "source": [
    "def greeting():\n",
    "    print(\"hello\")\n",
    "    print(\"world\")\n",
    "    "
   ]
  },
  {
   "cell_type": "code",
   "execution_count": 52,
   "metadata": {},
   "outputs": [
    {
     "name": "stdout",
     "output_type": "stream",
     "text": [
      "hello\n",
      "world\n",
      "None\n"
     ]
    }
   ],
   "source": [
    "print(greeting())"
   ]
  },
  {
   "cell_type": "code",
   "execution_count": 54,
   "metadata": {},
   "outputs": [
    {
     "name": "stdout",
     "output_type": "stream",
     "text": [
      "[1, 4, 9, 16, 25]\n",
      "[1, 8, 27, 64, 125]\n"
     ]
    }
   ],
   "source": [
    "# higher order function\n",
    "def apply(func ,data):\n",
    "    return[func(x) for x in data]\n",
    "\n",
    "def square(x):\n",
    "    return x** 2\n",
    "\n",
    "def cube(x):\n",
    "    return x**3\n",
    "#implement a function that takes a list of numbers and a function\n",
    "ans = apply(square,[1,2,3,4,5])\n",
    "print(ans)\n",
    "ans = apply(cube, [1,2,3,4,5])\n",
    "print(ans)"
   ]
  },
  {
   "cell_type": "markdown",
   "metadata": {},
   "source": [
    "lambda expression"
   ]
  },
  {
   "cell_type": "code",
   "execution_count": 56,
   "metadata": {},
   "outputs": [
    {
     "name": "stdout",
     "output_type": "stream",
     "text": [
      "<function <lambda> at 0x0000017C064BC9A0>\n",
      "14\n",
      "35\n",
      "110\n"
     ]
    }
   ],
   "source": [
    "f = lambda x: x**2 +10\n",
    "print(f)\n",
    "print(f(2))\n",
    "print(f(5))\n",
    "print(f(10))"
   ]
  },
  {
   "cell_type": "code",
   "execution_count": 57,
   "metadata": {},
   "outputs": [
    {
     "name": "stdout",
     "output_type": "stream",
     "text": [
      "11\n",
      "12\n",
      "82\n"
     ]
    }
   ],
   "source": [
    "g = lambda x,y: x*2 + y*2 - x +y\n",
    "print(g(2,3))\n",
    "print(g(3,3))\n",
    "print(g(13,23))"
   ]
  },
  {
   "cell_type": "markdown",
   "metadata": {},
   "source": [
    "- map and filter using lamda"
   ]
  },
  {
   "cell_type": "code",
   "execution_count": 4,
   "metadata": {},
   "outputs": [
    {
     "name": "stdout",
     "output_type": "stream",
     "text": [
      "[1]\n",
      "[1, 8, 27, 64, 125]\n",
      "[1, 8, 27, 64, 125]\n",
      "[1, 8, 27, 64, 125, 8]\n",
      "[1, 8, 27, 64, 125]\n",
      "[1, 8, 27, 64, 125]\n",
      "[1, 8, 27, 64, 125, 27]\n",
      "[1, 8, 27, 64, 125]\n",
      "[1, 8, 27, 64, 125]\n",
      "[1, 8, 27, 64, 125, 64]\n",
      "[1, 8, 27, 64, 125]\n",
      "[1, 8, 27, 64, 125]\n",
      "[1, 8, 27, 64, 125, 125]\n",
      "[1, 8, 27, 64, 125]\n",
      "[1, 8, 27, 64, 125]\n"
     ]
    }
   ],
   "source": [
    "x =[1,2,3,4,5]\n",
    "# style 1(loop)\n",
    "x3 =[]\n",
    "for i in x:\n",
    "    x3.append(i**3)\n",
    "    print(x3)\n",
    "\n",
    "    #style 2 -(comprehension)\n",
    "    x3 =[i**3 for i in x]\n",
    "    print(x3)\n",
    "\n",
    "    # style3 - (map with lambda)\n",
    "    x3 = list(map(lambda i: i**3,x))\n",
    "    print(x3)\n",
    "    "
   ]
  },
  {
   "cell_type": "code",
   "execution_count": 5,
   "metadata": {},
   "outputs": [
    {
     "name": "stdout",
     "output_type": "stream",
     "text": [
      "[1, 2, 3, 4, 5]\n"
     ]
    }
   ],
   "source": [
    "x =[1,2,'a','b',3,'2',4,5,'6']\n",
    "nums = filter(lambda i:isinstance(i,int), x)\n",
    "nums = list(nums)# set(nums) or tuple(nums)\n",
    "print(nums)\n"
   ]
  },
  {
   "cell_type": "code",
   "execution_count": null,
   "metadata": {},
   "outputs": [],
   "source": []
  }
 ],
 "metadata": {
  "kernelspec": {
   "display_name": "base",
   "language": "python",
   "name": "python3"
  },
  "language_info": {
   "codemirror_mode": {
    "name": "ipython",
    "version": 3
   },
   "file_extension": ".py",
   "mimetype": "text/x-python",
   "name": "python",
   "nbconvert_exporter": "python",
   "pygments_lexer": "ipython3",
   "version": "3.11.5"
  }
 },
 "nbformat": 4,
 "nbformat_minor": 2
}
