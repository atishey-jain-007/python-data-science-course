{
 "cells": [
  {
   "cell_type": "markdown",
   "metadata": {},
   "source": [
    "- set\n",
    "- create\n",
    "- method"
   ]
  },
  {
   "cell_type": "code",
   "execution_count": 3,
   "metadata": {},
   "outputs": [
    {
     "name": "stdout",
     "output_type": "stream",
     "text": [
      "set()\n",
      "{1, 2, 3, 4, 5, 6}\n",
      "{'apple', 'banana', 'cherry'}\n",
      "{'apple', 3.14, 205, 'banana'}\n",
      "{1, 2, 3, 4, 5, 6, 7, 8, 9, 10}\n",
      "{'t', 'o', 'y', ' ', 'h', 'p', 'a', 'r', 'e'}\n"
     ]
    }
   ],
   "source": [
    "x = set()\n",
    "print(x)\n",
    "y ={1,2,3,4,5,6,1,2}\n",
    "print(y)\n",
    "fruits = {\"apple\",\"banana\",\"cherry\"}\n",
    "print(fruits)\n",
    "data = {'apple',205,3.14,'banana'}\n",
    "print(data)\n",
    "a = set([1,2,3,4,5,6,7,8,9,10])\n",
    "b = set(\"harry potter\")\n",
    "print(a)\n",
    "print(b)"
   ]
  },
  {
   "cell_type": "code",
   "execution_count": 4,
   "metadata": {},
   "outputs": [
    {
     "name": "stdout",
     "output_type": "stream",
     "text": [
      "{'the final empire', 'the well of ascension', 'the hero of ages'}\n"
     ]
    }
   ],
   "source": [
    "a = set()\n",
    "a.add(\"the final empire\")\n",
    "a.add(\"the hero of ages\")\n",
    "a.add(\"the well of ascension\")\n",
    "print(a)\n"
   ]
  },
  {
   "cell_type": "code",
   "execution_count": 5,
   "metadata": {},
   "outputs": [
    {
     "name": "stdout",
     "output_type": "stream",
     "text": [
      "{'the final empire', 'applecider', 'the well of ascension', 'applepie', 'appleseed', 'the hero of ages'}\n"
     ]
    }
   ],
   "source": [
    "a.update(['appleseed','applepie','applecider'])\n",
    "print(a)"
   ]
  },
  {
   "cell_type": "code",
   "execution_count": 6,
   "metadata": {},
   "outputs": [
    {
     "name": "stdout",
     "output_type": "stream",
     "text": [
      "{'the final empire', 'applecider', 'the well of ascension', 'applepie', 'appleseed', 'the hero of ages'}\n"
     ]
    }
   ],
   "source": [
    "a.add(\"appleseed\")#not added\n",
    "print(a)#no duplicates"
   ]
  },
  {
   "cell_type": "code",
   "execution_count": 8,
   "metadata": {},
   "outputs": [
    {
     "name": "stdout",
     "output_type": "stream",
     "text": [
      "{'the final empire', 'applecider', 'the well of ascension', 'the hero of ages'}\n"
     ]
    }
   ],
   "source": [
    "a.discard(\"appleseed\")\n",
    "a.discard(\"applepie\")#noerror\n",
    "a.discard(\"appleseed\")\n",
    "print(a)"
   ]
  },
  {
   "cell_type": "code",
   "execution_count": 14,
   "metadata": {},
   "outputs": [
    {
     "name": "stdout",
     "output_type": "stream",
     "text": [
      "{1, 2, 3, 4, 5}\n",
      "{1, 2, 3, 4, 5}\n",
      "{1, 2, 3, 4, 5, 6, 7, 8}\n",
      "{1, 2, 3, 4, 5, 6, 7, 8}\n"
     ]
    }
   ],
   "source": [
    "a ={1,2,3}\n",
    "b ={3,4,5}\n",
    "c ={6,7,8}\n",
    "print(a.union(b))\n",
    "ab = a.union(b)\n",
    "print(ab)\n",
    "print(a.union(b,c))\n",
    "print(a|b|c)#| is union"
   ]
  },
  {
   "cell_type": "code",
   "execution_count": 13,
   "metadata": {},
   "outputs": [
    {
     "name": "stdout",
     "output_type": "stream",
     "text": [
      "{3}\n",
      "{3}\n",
      "set()\n",
      "set()\n"
     ]
    }
   ],
   "source": [
    "print(a.intersection(b))\n",
    "print(a&b) #& is intersection\n",
    "print(a &c)\n",
    "print(a&b&c)"
   ]
  },
  {
   "cell_type": "code",
   "execution_count": 17,
   "metadata": {},
   "outputs": [
    {
     "name": "stdout",
     "output_type": "stream",
     "text": [
      "{1, 2}\n",
      "{4, 5}\n",
      "{1, 2, 3}\n"
     ]
    }
   ],
   "source": [
    "print(a.difference(b))\n",
    "print(b.difference(a))\n",
    "print(a -c)# - is difference"
   ]
  },
  {
   "cell_type": "code",
   "execution_count": 18,
   "metadata": {},
   "outputs": [
    {
     "name": "stdout",
     "output_type": "stream",
     "text": [
      "{1, 2, 4, 5}\n",
      "{1, 2, 4, 5}\n"
     ]
    }
   ],
   "source": [
    "print(a.symmetric_difference(b))\n",
    "print(a^b) # ^ is symmetric difference"
   ]
  },
  {
   "cell_type": "markdown",
   "metadata": {},
   "source": [
    "dictionary"
   ]
  },
  {
   "cell_type": "code",
   "execution_count": 9,
   "metadata": {},
   "outputs": [
    {
     "name": "stdout",
     "output_type": "stream",
     "text": [
      "{'name': 'alex', 'isMarried': True, 'haschildren': False, 'age': 29, 'city': 'new york', 'profession': 'photographer'}\n",
      "{'food': 500, 'rent': 1700, 'insurance': 200}\n"
     ]
    }
   ],
   "source": [
    "data = [\"alex\",True,False,29,\"new york\",\"photographer\"]\n",
    "\n",
    "datadict ={\n",
    "    'name':'alex',\n",
    "    'isMarried': True,\n",
    "    'haschildren':False,\n",
    "    'age':29,\n",
    "    'city':'new york',\n",
    "    'profession': 'photographer'\n",
    "}\n",
    "\n",
    "movies = {}#empty dictionary\n",
    "\n",
    "expenditure = dict(\n",
    "    food = 500,\n",
    "    rent = 1700,\n",
    "    insurance =200,\n",
    "\n",
    ")\n",
    "\n",
    "print(datadict)\n",
    "print(expenditure)"
   ]
  },
  {
   "cell_type": "markdown",
   "metadata": {},
   "source": [
    "- creating\n",
    "- accessing\n",
    "- add or update \n",
    "- remove\n",
    "- traversal"
   ]
  },
  {
   "cell_type": "code",
   "execution_count": 16,
   "metadata": {},
   "outputs": [
    {
     "name": "stdout",
     "output_type": "stream",
     "text": [
      "alex\n",
      "True\n",
      "new york\n"
     ]
    }
   ],
   "source": [
    "print(datadict['name'])\n",
    "print(datadict['isMarried'])\n",
    "print(datadict['city'])\n",
    "#print(datadict['state'])"
   ]
  },
  {
   "cell_type": "code",
   "execution_count": 17,
   "metadata": {},
   "outputs": [
    {
     "name": "stdout",
     "output_type": "stream",
     "text": [
      "new york\n",
      "new york\n",
      "29\n",
      "100\n"
     ]
    }
   ],
   "source": [
    "print(datadict.get('city'))\n",
    "print(datadict.get('city'))#city is not in the dictionary\n",
    "print(datadict.get('age',100))\n",
    "print(datadict.get('AGE',100)) #AGE is not in the dictionary"
   ]
  },
  {
   "cell_type": "code",
   "execution_count": 18,
   "metadata": {},
   "outputs": [
    {
     "name": "stdout",
     "output_type": "stream",
     "text": [
      "{'Deadpool & Wolverine': 'shawn levy', 'bahubali': 'ss rajamouli', 'Inception': 'christopher nolan'}\n"
     ]
    }
   ],
   "source": [
    "movies['Deadpool & Wolverine'] =\"shawn levy\"\n",
    "movies['bahubali'] = \"ss rajamouli\"\n",
    "movies['Inception'] =\"christopher nolan\"\n",
    "print(movies)"
   ]
  },
  {
   "cell_type": "code",
   "execution_count": 21,
   "metadata": {},
   "outputs": [
    {
     "name": "stdout",
     "output_type": "stream",
     "text": [
      "{'Deadpool & Wolverine': 'shawn levy', 'bahubali': 'ss rajamouli', 'Inception': 'christopher nolan', 'the dark knight': 'Chritopher Nolan', 'the prestige': 'christopher Nolan', 'The matrix': 'wachowski brothers'}\n"
     ]
    }
   ],
   "source": [
    "movies.update(\n",
    "    {\n",
    "        'the dark knight': 'Chritopher Nolan',\n",
    "        'the prestige': 'christopher Nolan',\n",
    "        'The matrix':'wachowski brothers',\n",
    "          }\n",
    ")\n",
    "print(movies)"
   ]
  },
  {
   "cell_type": "code",
   "execution_count": 24,
   "metadata": {},
   "outputs": [
    {
     "name": "stdout",
     "output_type": "stream",
     "text": [
      "{'name': 'alexander', 'isMarried': True, 'haschildren': False, 'age': 29, 'city': 'new york', 'profession': 'photographer'}\n",
      "6\n"
     ]
    }
   ],
   "source": [
    "datadict['name'] ='alexander'\n",
    "print(datadict)\n"
   ]
  },
  {
   "cell_type": "code",
   "execution_count": 26,
   "metadata": {},
   "outputs": [
    {
     "data": {
      "text/plain": [
       "'ss rajamouli'"
      ]
     },
     "execution_count": 26,
     "metadata": {},
     "output_type": "execute_result"
    }
   ],
   "source": [
    "movies.pop(\"bahubali\")"
   ]
  },
  {
   "cell_type": "code",
   "execution_count": 27,
   "metadata": {},
   "outputs": [
    {
     "data": {
      "text/plain": [
       "{'Deadpool & Wolverine': 'shawn levy',\n",
       " 'Inception': 'christopher nolan',\n",
       " 'the dark knight': 'Chritopher Nolan',\n",
       " 'the prestige': 'christopher Nolan',\n",
       " 'The matrix': 'wachowski brothers'}"
      ]
     },
     "execution_count": 27,
     "metadata": {},
     "output_type": "execute_result"
    }
   ],
   "source": [
    "movies"
   ]
  },
  {
   "cell_type": "markdown",
   "metadata": {},
   "source": [
    "for loop in dict will ilerate over kyes"
   ]
  },
  {
   "cell_type": "code",
   "execution_count": 28,
   "metadata": {},
   "outputs": [
    {
     "name": "stdout",
     "output_type": "stream",
     "text": [
      "name\n",
      "isMarried\n",
      "haschildren\n",
      "age\n",
      "city\n",
      "profession\n"
     ]
    }
   ],
   "source": [
    "for item in datadict:\n",
    "    print(item)"
   ]
  },
  {
   "cell_type": "code",
   "execution_count": 29,
   "metadata": {},
   "outputs": [
    {
     "name": "stdout",
     "output_type": "stream",
     "text": [
      "alexander\n",
      "True\n",
      "False\n",
      "29\n",
      "new york\n",
      "photographer\n"
     ]
    }
   ],
   "source": [
    "for item in datadict:\n",
    "    print(datadict[item])\n",
    "    "
   ]
  },
  {
   "cell_type": "code",
   "execution_count": 31,
   "metadata": {},
   "outputs": [
    {
     "name": "stdout",
     "output_type": "stream",
     "text": [
      "name alexander\n",
      "isMarried True\n",
      "haschildren False\n",
      "age 29\n",
      "city new york\n",
      "profession photographer\n"
     ]
    }
   ],
   "source": [
    "for k,v in datadict.items():\n",
    "    print(k ,v)"
   ]
  },
  {
   "cell_type": "code",
   "execution_count": 33,
   "metadata": {},
   "outputs": [
    {
     "data": {
      "text/plain": [
       "dict_keys(['Deadpool & Wolverine', 'Inception', 'the dark knight', 'the prestige', 'The matrix'])"
      ]
     },
     "execution_count": 33,
     "metadata": {},
     "output_type": "execute_result"
    }
   ],
   "source": [
    "movies.keys()"
   ]
  },
  {
   "cell_type": "code",
   "execution_count": 35,
   "metadata": {},
   "outputs": [
    {
     "data": {
      "text/plain": [
       "dict_values(['shawn levy', 'christopher nolan', 'Chritopher Nolan', 'christopher Nolan', 'wachowski brothers'])"
      ]
     },
     "execution_count": 35,
     "metadata": {},
     "output_type": "execute_result"
    }
   ],
   "source": [
    "movies.values()"
   ]
  },
  {
   "cell_type": "markdown",
   "metadata": {},
   "source": [
    "nested dictionary"
   ]
  },
  {
   "cell_type": "code",
   "execution_count": 37,
   "metadata": {},
   "outputs": [],
   "source": [
    "report = {\n",
    "    '01' :{\n",
    "        'name' : \"alex\",\n",
    "        'subjects' :{\n",
    "            'maths':80,\n",
    "            'science' : 75,\n",
    "            'english' : 95\n",
    "        }\n",
    "\n",
    "    },\n",
    "    '02':{\n",
    "        'name' :\"Jhon\",\n",
    "        'subjects' : {\n",
    "            'maths' : 80,\n",
    "            'science' : 75,\n",
    "            'english' : 85\n",
    "        }\n",
    "    },\n",
    "}"
   ]
  },
  {
   "cell_type": "code",
   "execution_count": 39,
   "metadata": {},
   "outputs": [
    {
     "data": {
      "text/plain": [
       "85"
      ]
     },
     "execution_count": 39,
     "metadata": {},
     "output_type": "execute_result"
    }
   ],
   "source": [
    "report['02']['subjects']['english']"
   ]
  },
  {
   "cell_type": "code",
   "execution_count": 40,
   "metadata": {},
   "outputs": [],
   "source": [
    "from pprint import pp"
   ]
  },
  {
   "cell_type": "code",
   "execution_count": 41,
   "metadata": {},
   "outputs": [
    {
     "name": "stdout",
     "output_type": "stream",
     "text": [
      "{'01': {'name': 'alex',\n",
      "        'subjects': {'maths': 80, 'science': 75, 'english': 95}},\n",
      " '02': {'name': 'Jhon',\n",
      "        'subjects': {'maths': 80, 'science': 75, 'english': 85}}}\n"
     ]
    }
   ],
   "source": [
    "pp(report)"
   ]
  },
  {
   "cell_type": "code",
   "execution_count": 42,
   "metadata": {},
   "outputs": [
    {
     "name": "stdout",
     "output_type": "stream",
     "text": [
      "{'year': [2019, 2020, 2022, 2023], 'rainfall': [100, 200, 150, 250]}\n"
     ]
    }
   ],
   "source": [
    "rainfall_data ={\n",
    "    'year': [2019,2020,2022,2023],\n",
    "    'rainfall' : [100,200,150,250]\n",
    "}\n",
    "print(rainfall_data)\n"
   ]
  },
  {
   "cell_type": "code",
   "execution_count": null,
   "metadata": {},
   "outputs": [],
   "source": []
  }
 ],
 "metadata": {
  "kernelspec": {
   "display_name": "base",
   "language": "python",
   "name": "python3"
  },
  "language_info": {
   "codemirror_mode": {
    "name": "ipython",
    "version": 3
   },
   "file_extension": ".py",
   "mimetype": "text/x-python",
   "name": "python",
   "nbconvert_exporter": "python",
   "pygments_lexer": "ipython3",
   "version": "3.11.5"
  }
 },
 "nbformat": 4,
 "nbformat_minor": 2
}
