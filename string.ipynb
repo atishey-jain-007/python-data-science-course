{
 "cells": [
  {
   "cell_type": "markdown",
   "metadata": {},
   "source": [
    "strings\n",
    "\n",
    "- creation\n",
    "- indexing and slicing\n",
    "- methods\n",
    "\n",
    "\n"
   ]
  },
  {
   "cell_type": "code",
   "execution_count": 2,
   "metadata": {},
   "outputs": [
    {
     "name": "stdout",
     "output_type": "stream",
     "text": [
      "<class 'str'>\n"
     ]
    }
   ],
   "source": [
    "# single quoted\n",
    "a = 'apple'\n",
    "print(type(a))"
   ]
  },
  {
   "cell_type": "code",
   "execution_count": 3,
   "metadata": {},
   "outputs": [
    {
     "name": "stdout",
     "output_type": "stream",
     "text": [
      "<class 'str'>\n"
     ]
    }
   ],
   "source": [
    "#double quoted\n",
    "b = \"big apple\"\n",
    "print(type(b))"
   ]
  },
  {
   "cell_type": "code",
   "execution_count": 4,
   "metadata": {},
   "outputs": [
    {
     "name": "stdout",
     "output_type": "stream",
     "text": [
      "<class 'str'>\n"
     ]
    }
   ],
   "source": [
    "#triple quoted\n",
    "c = '''this is a string. and its in triple quotes '''\n",
    "print(type(c))"
   ]
  },
  {
   "cell_type": "code",
   "execution_count": 5,
   "metadata": {},
   "outputs": [
    {
     "name": "stdout",
     "output_type": "stream",
     "text": [
      "<class 'str'>\n"
     ]
    }
   ],
   "source": [
    "d = str(129300)\n",
    "print(type(d))"
   ]
  },
  {
   "cell_type": "markdown",
   "metadata": {},
   "source": [
    "types of string\n",
    "\n",
    "- byte b'hello'\n",
    "- raw r'hello'\n",
    "- format f'hello{a}'\n"
   ]
  },
  {
   "cell_type": "code",
   "execution_count": 7,
   "metadata": {},
   "outputs": [
    {
     "name": "stdout",
     "output_type": "stream",
     "text": [
      "b'this is a byte string'\n",
      "this is /n/n/n a byte string\n",
      "apple is a value\n"
     ]
    }
   ],
   "source": [
    "print(b'this is a byte string')\n",
    "print(r'this is /n/n/n a byte string')\n",
    "print (f'{a} is a value')"
   ]
  },
  {
   "cell_type": "markdown",
   "metadata": {},
   "source": [
    "indexing\n",
    "\n",
    " -5 -4 -3 -2 -1\n",
    "  a  p  p  l  e\n",
    "  0  1  2  3  4"
   ]
  },
  {
   "cell_type": "code",
   "execution_count": 18,
   "metadata": {},
   "outputs": [
    {
     "name": "stdout",
     "output_type": "stream",
     "text": [
      "g\n",
      "r\n",
      "e\n",
      "e\n",
      "k\n"
     ]
    }
   ],
   "source": [
    "word = 'greek'\n",
    "print(word[0])\n",
    "print(word[1])\n",
    "print(word[2])\n",
    "print(word[-2])\n",
    "print(word[-1])"
   ]
  },
  {
   "cell_type": "code",
   "execution_count": 19,
   "metadata": {},
   "outputs": [
    {
     "name": "stdout",
     "output_type": "stream",
     "text": [
      "d\n",
      "n\n"
     ]
    }
   ],
   "source": [
    "msg =\"journey before destination\"\n",
    "print(msg[15])\n",
    "print(msg[-6])\n"
   ]
  },
  {
   "cell_type": "code",
   "execution_count": 20,
   "metadata": {},
   "outputs": [
    {
     "name": "stdout",
     "output_type": "stream",
     "text": [
      "journey\n"
     ]
    }
   ],
   "source": [
    "print(msg[0]+ msg[1]+msg[2]+msg[3]+msg[4]+msg[5]+msg[6])\n"
   ]
  },
  {
   "cell_type": "markdown",
   "metadata": {},
   "source": [
    "sequence[star:stop:]\n",
    "sequence[start:stop:step]"
   ]
  },
  {
   "cell_type": "code",
   "execution_count": 21,
   "metadata": {},
   "outputs": [
    {
     "name": "stdout",
     "output_type": "stream",
     "text": [
      "journey\n"
     ]
    }
   ],
   "source": [
    "print(msg[0:7])"
   ]
  },
  {
   "cell_type": "code",
   "execution_count": 22,
   "metadata": {},
   "outputs": [
    {
     "name": "stdout",
     "output_type": "stream",
     "text": [
      "destination\n"
     ]
    }
   ],
   "source": [
    "print(msg[15:])"
   ]
  },
  {
   "cell_type": "code",
   "execution_count": 25,
   "metadata": {},
   "outputs": [
    {
     "name": "stdout",
     "output_type": "stream",
     "text": [
      "vijay\n",
      "Deenanath\n",
      "chauhan\n"
     ]
    }
   ],
   "source": [
    "name = 'vijay Deenanath chauhan'\n",
    "fname = name[:5]#first 5 character\n",
    "mname = name[6:-8]\n",
    "lname = name[-7:]\n",
    "print(fname)\n",
    "print(mname)\n",
    "print(lname)"
   ]
  },
  {
   "cell_type": "code",
   "execution_count": 26,
   "metadata": {},
   "outputs": [
    {
     "name": "stdout",
     "output_type": "stream",
     "text": [
      "nahuahc htananeeD yajiv\n",
      "vjyDeaahcahn\n",
      " Deenanath ch\n"
     ]
    }
   ],
   "source": [
    "#reverse\n",
    "print(name[::-1])\n",
    "#step\n",
    "print(name[::2])\n",
    "#leaving out the start and end\n",
    "print(name[5:-5])\n"
   ]
  },
  {
   "cell_type": "code",
   "execution_count": null,
   "metadata": {},
   "outputs": [],
   "source": [
    "x = \"$1599.25 only\"\n",
    "print(\"convert it into flot\")\n",
    "x = float(x[1:-5])\n",
    "print(x)"
   ]
  },
  {
   "cell_type": "markdown",
   "metadata": {},
   "source": [
    "string methods\n",
    "\n",
    "- formatting\n",
    " - upper()\n",
    " - lower()\n",
    " - capitalize()\n",
    " - title()\n",
    " - swapcase()\n",
    " - casefold()\n",
    " - center()\n",
    " - ljust()\n",
    " - rust()\n",
    " "
   ]
  },
  {
   "cell_type": "code",
   "execution_count": 30,
   "metadata": {},
   "outputs": [
    {
     "name": "stdout",
     "output_type": "stream",
     "text": [
      "LIFE IS BEAUTIFUL\n",
      "life is beautiful\n",
      "Life Is Beautiful\n",
      "Life is beautiful\n",
      "lIFE IS bEAUTIFUL\n",
      "life is beautiful\n",
      "                Life is Beautiful                 \n",
      "Life is Beautiful                                 \n",
      "                                 Life is Beautiful\n",
      "*********************************Life is Beautiful\n",
      "Life is Beautiful*********************************\n",
      "****************Life is Beautiful*****************\n"
     ]
    }
   ],
   "source": [
    "msg = 'Life is Beautiful'\n",
    "print(msg.upper())\n",
    "print(msg.lower())\n",
    "print(msg.title())\n",
    "print(msg.capitalize())\n",
    "print(msg.swapcase())\n",
    "print(msg.casefold())\n",
    "print(msg.center(50))\n",
    "print(msg.ljust(50))\n",
    "print(msg.rjust(50))\n",
    "print(msg.rjust(50,'*'))\n",
    "print(msg.ljust(50,'*'))\n",
    "print(msg.center(50,'*'))"
   ]
  },
  {
   "cell_type": "markdown",
   "metadata": {},
   "source": [
    "- Validation method\n",
    " - isalpha()\n",
    " - isalnum()\n",
    " - isnumeric()\n",
    " - isdigit()\n",
    " - isspace()\n",
    " - isascii()\n",
    " - isprintable()\n",
    " - isupper()\n",
    " - islower()"
   ]
  },
  {
   "cell_type": "code",
   "execution_count": 31,
   "metadata": {},
   "outputs": [
    {
     "name": "stdout",
     "output_type": "stream",
     "text": [
      "apple pie\n",
      "False\n",
      "False\n",
      "False\n",
      "False\n",
      "False\n",
      "True\n",
      "True\n",
      "True\n",
      "False\n"
     ]
    }
   ],
   "source": [
    "data = input(\"enter something\")\n",
    "print(data)\n",
    "print(data.isalpha())\n",
    "print(data.isalnum())\n",
    "print(data.isnumeric())\n",
    "print(data.isdigit())\n",
    "print(data.isspace())\n",
    "print(data.isascii())\n",
    "print(data.isprintable())\n",
    "print(data.islower())\n",
    "print(data.isupper())"
   ]
  },
  {
   "cell_type": "code",
   "execution_count": 34,
   "metadata": {},
   "outputs": [
    {
     "name": "stdout",
     "output_type": "stream",
     "text": [
      "0 = \u0000 ,  True\n",
      "5 = \u0005 ,  True\n",
      "10 = \n",
      " ,  True\n",
      "15 = \u000f ,  True\n",
      "20 = \u0014 ,  True\n",
      "25 = \u0019 ,  True\n",
      "30 = \u001e ,  True\n",
      "35 = # ,  True\n",
      "40 = ( ,  True\n",
      "45 = - ,  True\n",
      "50 = 2 ,  True\n",
      "55 = 7 ,  True\n",
      "60 = < ,  True\n",
      "65 = A ,  True\n",
      "70 = F ,  True\n",
      "75 = K ,  True\n",
      "80 = P ,  True\n",
      "85 = U ,  True\n",
      "90 = Z ,  True\n",
      "95 = _ ,  True\n",
      "100 = d ,  True\n",
      "105 = i ,  True\n",
      "110 = n ,  True\n",
      "115 = s ,  True\n",
      "120 = x ,  True\n",
      "125 = } ,  True\n",
      "130 =  ,  False\n",
      "135 =  ,  False\n",
      "140 =  ,  False\n",
      "145 =  ,  False\n",
      "150 =  ,  False\n",
      "155 =  ,  False\n",
      "160 =   ,  False\n",
      "165 = ¥ ,  False\n",
      "170 = ª ,  False\n",
      "175 = ¯ ,  False\n",
      "180 = ´ ,  False\n",
      "185 = ¹ ,  False\n",
      "190 = ¾ ,  False\n",
      "195 = Ã ,  False\n",
      "200 = È ,  False\n",
      "205 = Í ,  False\n",
      "210 = Ò ,  False\n",
      "215 = × ,  False\n",
      "220 = Ü ,  False\n",
      "225 = á ,  False\n",
      "230 = æ ,  False\n",
      "235 = ë ,  False\n",
      "240 = ð ,  False\n",
      "245 = õ ,  False\n",
      "250 = ú ,  False\n",
      "255 = ÿ ,  False\n",
      "260 = Ą ,  False\n",
      "265 = ĉ ,  False\n",
      "270 = Ď ,  False\n",
      "275 = ē ,  False\n"
     ]
    }
   ],
   "source": [
    "for i in range(0 , 280, 5):\n",
    "    c = chr(i)\n",
    "    print(f'{i} = {c} ,  {c.isascii()}')"
   ]
  },
  {
   "cell_type": "markdown",
   "metadata": {},
   "source": [
    "- utility functions\n",
    "- split()\n",
    "- find()\n",
    "- rfind()\n",
    "- index()\n",
    "- rindex()\n",
    "- count()\n",
    "- strip()\n"
   ]
  },
  {
   "cell_type": "code",
   "execution_count": 1,
   "metadata": {},
   "outputs": [
    {
     "data": {
      "text/plain": [
       "['all', 'the', 'glitter', 'is', 'not', 'gold']"
      ]
     },
     "execution_count": 1,
     "metadata": {},
     "output_type": "execute_result"
    }
   ],
   "source": [
    "sentence = \"all the glitter is not gold\"\n",
    "sentence.split()"
   ]
  },
  {
   "cell_type": "code",
   "execution_count": 2,
   "metadata": {},
   "outputs": [
    {
     "name": "stdout",
     "output_type": "stream",
     "text": [
      "['all', 'the', 'glitter', 'is', 'not', 'gold']\n",
      "['all', 'the', 'glitter', 'is', 'not', 'gold']\n",
      "['all', 'the', 'glitter', 'is', 'not', 'gold']\n",
      "['all', 'the', 'glitter', 'is', 'not', 'gold']\n",
      "['all', 'the', 'glitter', 'is', 'not', 'gold']\n",
      "['all', 'the', 'glitter', 'is', 'not', 'gold']\n"
     ]
    }
   ],
   "source": [
    "words = sentence.split()\n",
    "for word in words:\n",
    "    print(words)"
   ]
  },
  {
   "cell_type": "code",
   "execution_count": 3,
   "metadata": {},
   "outputs": [
    {
     "data": {
      "text/plain": [
       "['life before Death',\n",
       " ' strength before weakness',\n",
       " ' Journey before destination']"
      ]
     },
     "execution_count": 3,
     "metadata": {},
     "output_type": "execute_result"
    }
   ],
   "source": [
    "quote = \"life before Death, strength before weakness, Journey before destination\"\n",
    "quote.split(\",\")"
   ]
  },
  {
   "cell_type": "code",
   "execution_count": 4,
   "metadata": {},
   "outputs": [
    {
     "data": {
      "text/plain": [
       "['',\n",
       " 'jonny jonny, yes papa,',\n",
       " 'eating suger,no papa,',\n",
       " 'telling lies, no  papa,',\n",
       " 'open your mouth,hahahaa']"
      ]
     },
     "execution_count": 4,
     "metadata": {},
     "output_type": "execute_result"
    }
   ],
   "source": [
    "poem =\"\"\"\n",
    "jonny jonny, yes papa,\n",
    "eating suger,no papa,\n",
    "telling lies, no  papa,\n",
    "open your mouth,hahahaa\n",
    "\"\"\"\n",
    "poem.splitlines()"
   ]
  },
  {
   "cell_type": "code",
   "execution_count": 8,
   "metadata": {},
   "outputs": [
    {
     "name": "stdout",
     "output_type": "stream",
     "text": [
      "['C:', 'users', 'zaid', 'download', 'file,txt']\n",
      "C:👍users👍zaid👍download👍file,txt\n"
     ]
    }
   ],
   "source": [
    "addr = ['C:','users','zaid','download','file,txt']\n",
    "print(addr)\n",
    "full_addr = \"👍\".join(addr)\n",
    "print(full_addr)"
   ]
  },
  {
   "cell_type": "markdown",
   "metadata": {},
   "source": [
    "wap  to count all  even sized words in string enter by user\n"
   ]
  },
  {
   "cell_type": "code",
   "execution_count": 13,
   "metadata": {},
   "outputs": [
    {
     "name": "stdout",
     "output_type": "stream",
     "text": [
      "5\n"
     ]
    }
   ],
   "source": [
    "sentence = input(\"enter a sentence\")\n",
    "words = sentence.split()\n",
    "total = 0\n",
    "for word in words:\n",
    "    size = len(word)\n",
    "    if size % 2 ==0:\n",
    "        total+=1\n",
    "print(total)"
   ]
  },
  {
   "cell_type": "markdown",
   "metadata": {},
   "source": [
    "find() and index()"
   ]
  },
  {
   "cell_type": "code",
   "execution_count": 20,
   "metadata": {},
   "outputs": [
    {
     "name": "stdout",
     "output_type": "stream",
     "text": [
      "2\n",
      "10\n",
      "-1\n",
      "5\n",
      "2\n",
      "5\n"
     ]
    },
    {
     "ename": "ValueError",
     "evalue": "substring not found",
     "output_type": "error",
     "traceback": [
      "\u001b[1;31m---------------------------------------------------------------------------\u001b[0m",
      "\u001b[1;31mValueError\u001b[0m                                Traceback (most recent call last)",
      "Cell \u001b[1;32mIn[20], line 9\u001b[0m\n\u001b[0;32m      7\u001b[0m \u001b[38;5;28mprint\u001b[39m(a\u001b[38;5;241m.\u001b[39mindex(\u001b[38;5;124m'\u001b[39m\u001b[38;5;124mis\u001b[39m\u001b[38;5;124m'\u001b[39m))\n\u001b[0;32m      8\u001b[0m \u001b[38;5;28mprint\u001b[39m(a\u001b[38;5;241m.\u001b[39mindex(\u001b[38;5;124m'\u001b[39m\u001b[38;5;124mis\u001b[39m\u001b[38;5;124m'\u001b[39m, \u001b[38;5;241m3\u001b[39m))\u001b[38;5;66;03m# start from index 3\u001b[39;00m\n\u001b[1;32m----> 9\u001b[0m \u001b[38;5;28mprint\u001b[39m(a\u001b[38;5;241m.\u001b[39mindex(\u001b[38;5;124m'\u001b[39m\u001b[38;5;124mare\u001b[39m\u001b[38;5;124m'\u001b[39m))\n",
      "\u001b[1;31mValueError\u001b[0m: substring not found"
     ]
    }
   ],
   "source": [
    "a = 'this is a message'\n",
    "print(a.find('is'))\n",
    "print(a.find('mess'))\n",
    "print(a.find('are'))\n",
    "print(a.find('is', 3))# start from index 3\n",
    "#index is same as find but it throws an error if not found\n",
    "print(a.index('is'))\n",
    "print(a.index('is', 3))# start from index 3\n",
    "print(a.index('are'))# error"
   ]
  },
  {
   "cell_type": "code",
   "execution_count": 22,
   "metadata": {},
   "outputs": [
    {
     "name": "stdout",
     "output_type": "stream",
     "text": [
      "thwas was a message\n",
      "this is a letter\n",
      "khis is a lekter\n"
     ]
    }
   ],
   "source": [
    "b =a.replace(\"is\",\"was\")\n",
    "print(b)\n",
    "c = b.replace('message', 'letter').replace('was','is')\n",
    "print(c)\n",
    "d = c.replace('t','k', 2)#Replace only first 2\n",
    "print(d)\n"
   ]
  },
  {
   "cell_type": "code",
   "execution_count": 23,
   "metadata": {},
   "outputs": [
    {
     "data": {
      "text/plain": [
       "'hello'"
      ]
     },
     "execution_count": 23,
     "metadata": {},
     "output_type": "execute_result"
    }
   ],
   "source": [
    "#replace a remove\n",
    "data = \"he!!!!!llo\"\n",
    "data.replace('!','')#remove all"
   ]
  },
  {
   "cell_type": "code",
   "execution_count": 30,
   "metadata": {},
   "outputs": [
    {
     "name": "stdout",
     "output_type": "stream",
     "text": [
      "hll my nm s tshy\n"
     ]
    }
   ],
   "source": [
    "b = \"hello my name is atishey\".replace('a','').replace('e','').replace('i','').replace('o','').replace('u','')\n",
    "print(b)\n",
    "\n"
   ]
  },
  {
   "cell_type": "code",
   "execution_count": 31,
   "metadata": {},
   "outputs": [
    {
     "name": "stdout",
     "output_type": "stream",
     "text": [
      "4\n",
      "2\n",
      "1\n",
      "0\n"
     ]
    }
   ],
   "source": [
    "msg = 'one to three one two'\n",
    "print(msg.count(\"o\"))\n",
    "print(msg.count(\"one\"))\n",
    "print(msg.count(\"ee\"))\n",
    "print(msg.count(\"four\"))"
   ]
  },
  {
   "cell_type": "code",
   "execution_count": 34,
   "metadata": {},
   "outputs": [
    {
     "name": "stdout",
     "output_type": "stream",
     "text": [
      "14   atishey jain\n",
      "12 atishey jain\n"
     ]
    }
   ],
   "source": [
    "name = '  atishey jain'\n",
    "print(len(name), name)\n",
    "clean_name = name.strip()\n",
    "print(len(clean_name),clean_name)"
   ]
  },
  {
   "cell_type": "code",
   "execution_count": 44,
   "metadata": {},
   "outputs": [
    {
     "name": "stdout",
     "output_type": "stream",
     "text": [
      "JHON\n",
      "ALEX\n",
      "JANE\n",
      "ALEXA\n",
      "JACOB\n"
     ]
    }
   ],
   "source": [
    "names = [\n",
    "    'jhon ',\n",
    "    'alex',\n",
    "    ' jane',\n",
    "    ' alexa',\n",
    "    'jacob',\n",
    "]\n",
    "for word in names:\n",
    "    print(word.strip().upper())"
   ]
  },
  {
   "cell_type": "code",
   "execution_count": 1,
   "metadata": {},
   "outputs": [
    {
     "name": "stdout",
     "output_type": "stream",
     "text": [
      "hello my name is atishey\n"
     ]
    }
   ],
   "source": [
    "#questions\n",
    "a = \"hello my name is atishey\"\n",
    "print(a)"
   ]
  },
  {
   "cell_type": "code",
   "execution_count": 42,
   "metadata": {},
   "outputs": [
    {
     "name": "stdout",
     "output_type": "stream",
     "text": [
      "18\n"
     ]
    }
   ],
   "source": [
    "word = \"my name is atishey\"\n",
    "for i in word:\n",
    "  i = len(word)\n",
    "print(i)\n"
   ]
  },
  {
   "cell_type": "code",
   "execution_count": 35,
   "metadata": {},
   "outputs": [
    {
     "name": "stdout",
     "output_type": "stream",
     "text": [
      "python\n",
      "is\n",
      "everyware\n"
     ]
    }
   ],
   "source": [
    "text = \"python is everyware\"\n",
    "word = text.split( )\n",
    "for i in word:\n",
    "    print(i)\n",
    "\n"
   ]
  },
  {
   "cell_type": "code",
   "execution_count": 37,
   "metadata": {},
   "outputs": [
    {
     "name": "stdout",
     "output_type": "stream",
     "text": [
      "drow olleh\n"
     ]
    }
   ],
   "source": [
    "word = \"hello word\"\n",
    "print(word[::-1])"
   ]
  },
  {
   "cell_type": "code",
   "execution_count": 39,
   "metadata": {},
   "outputs": [
    {
     "name": "stdout",
     "output_type": "stream",
     "text": [
      "HOW ARE YOU \n"
     ]
    }
   ],
   "source": [
    "a = \"how are you \"\n",
    "print(a.upper())"
   ]
  },
  {
   "cell_type": "code",
   "execution_count": 41,
   "metadata": {},
   "outputs": [
    {
     "name": "stdout",
     "output_type": "stream",
     "text": [
      "how is it\n"
     ]
    }
   ],
   "source": [
    "b = \"How Is It\"\n",
    "print(b.lower())"
   ]
  },
  {
   "cell_type": "code",
   "execution_count": 12,
   "metadata": {},
   "outputs": [
    {
     "name": "stdout",
     "output_type": "stream",
     "text": [
      "['python', 'is', 'easy', 'to', 'learn']\n"
     ]
    }
   ],
   "source": [
    "words = ['python',\n",
    "         'is',\n",
    "         'easy',\n",
    "         'to',\n",
    "         'learn']\n",
    "print(words)\n",
    "full_words = \"\".join(words)\n"
   ]
  },
  {
   "cell_type": "code",
   "execution_count": null,
   "metadata": {},
   "outputs": [],
   "source": [
    "number =(i*3 )"
   ]
  }
 ],
 "metadata": {
  "kernelspec": {
   "display_name": "base",
   "language": "python",
   "name": "python3"
  },
  "language_info": {
   "codemirror_mode": {
    "name": "ipython",
    "version": 3
   },
   "file_extension": ".py",
   "mimetype": "text/x-python",
   "name": "python",
   "nbconvert_exporter": "python",
   "pygments_lexer": "ipython3",
   "version": "3.11.5"
  }
 },
 "nbformat": 4,
 "nbformat_minor": 2
}
