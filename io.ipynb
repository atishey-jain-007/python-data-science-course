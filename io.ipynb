{
 "cells": [
  {
   "cell_type": "code",
   "execution_count": 4,
   "metadata": {},
   "outputs": [
    {
     "data": {
      "text/plain": [
       "6294.0"
      ]
     },
     "execution_count": 4,
     "metadata": {},
     "output_type": "execute_result"
    }
   ],
   "source": [
    "p =12000\n",
    "r = 10.49\n",
    "t = 5\n",
    "si = p*r*t/100\n",
    "si\n"
   ]
  },
  {
   "cell_type": "markdown",
   "metadata": {},
   "source": [
    "example ans ="
   ]
  },
  {
   "cell_type": "code",
   "execution_count": 5,
   "metadata": {},
   "outputs": [
    {
     "data": {
      "text/plain": [
       "'atishey'"
      ]
     },
     "execution_count": 5,
     "metadata": {},
     "output_type": "execute_result"
    }
   ],
   "source": [
    "input(\"enter your name\")\n"
   ]
  },
  {
   "cell_type": "markdown",
   "metadata": {},
   "source": []
  },
  {
   "cell_type": "code",
   "execution_count": 1,
   "metadata": {},
   "outputs": [],
   "source": [
    "name = input('enter your namr')\n",
    "city = input('enter your city')\n",
    "color = input('enter your favorite color')\n",
    "fruit = input('enter your favorite fruit')\n",
    "luckynum = input('enter your lucky number')"
   ]
  },
  {
   "cell_type": "code",
   "execution_count": 2,
   "metadata": {},
   "outputs": [
    {
     "name": "stdout",
     "output_type": "stream",
     "text": [
      "1020\n"
     ]
    }
   ],
   "source": [
    "a = input('enter a number')\n",
    "b = input('enter a number')\n",
    "print(a+b)"
   ]
  },
  {
   "cell_type": "markdown",
   "metadata": {},
   "source": [
    "typecasting\n",
    "\n",
    "from onedatatype => another\n",
    "str=> int(variable) => int"
   ]
  },
  {
   "cell_type": "code",
   "execution_count": 12,
   "metadata": {},
   "outputs": [
    {
     "data": {
      "text/plain": [
       "12.2"
      ]
     },
     "execution_count": 12,
     "metadata": {},
     "output_type": "execute_result"
    }
   ],
   "source": [
    "float(\"12.20\")"
   ]
  },
  {
   "cell_type": "code",
   "execution_count": 18,
   "metadata": {},
   "outputs": [
    {
     "name": "stdout",
     "output_type": "stream",
     "text": [
      "<class 'int'>\n",
      "<class 'str'>\n",
      "<class 'str'>\n",
      "<class 'float'>\n"
     ]
    }
   ],
   "source": [
    "a = 10\n",
    "b = \"10\"\n",
    "c = \"10.20\"\n",
    "d = 10.20\n",
    "print(type(a))\n",
    "print(type(b))\n",
    "print(type(c))\n",
    "print(type(d))"
   ]
  },
  {
   "cell_type": "code",
   "execution_count": 20,
   "metadata": {},
   "outputs": [
    {
     "name": "stdout",
     "output_type": "stream",
     "text": [
      "10.0\n",
      "10\n",
      "True\n"
     ]
    }
   ],
   "source": [
    "print(float(a))\n",
    "print(str(a))\n",
    "print(bool(a))"
   ]
  },
  {
   "cell_type": "code",
   "execution_count": 22,
   "metadata": {},
   "outputs": [
    {
     "name": "stdout",
     "output_type": "stream",
     "text": [
      "300\n"
     ]
    }
   ],
   "source": [
    "a = input('enter a number')\n",
    "b= input('entera number')\n",
    "c = int(a)+int(b)\n",
    "print(c)\n"
   ]
  },
  {
   "cell_type": "code",
   "execution_count": 23,
   "metadata": {},
   "outputs": [
    {
     "name": "stdout",
     "output_type": "stream",
     "text": [
      "133333\n"
     ]
    }
   ],
   "source": [
    "a = int(input('enter a number'))\n",
    "b = int(input('enter a number'))\n",
    "c = a + b\n",
    "print(c)"
   ]
  },
  {
   "cell_type": "code",
   "execution_count": 26,
   "metadata": {},
   "outputs": [
    {
     "name": "stdout",
     "output_type": "stream",
     "text": [
      "12239.999999999998\n"
     ]
    }
   ],
   "source": [
    "p = int(input('enter ur principal'))\n",
    "r = float(input('enter ur rate'))\n",
    "t = int(input('enter ur time'))\n",
    "si = p*r*t/100\n",
    "print(si)"
   ]
  },
  {
   "cell_type": "markdown",
   "metadata": {},
   "source": [
    "answer 12 - 3 = 9"
   ]
  },
  {
   "cell_type": "code",
   "execution_count": 27,
   "metadata": {},
   "outputs": [
    {
     "name": "stdout",
     "output_type": "stream",
     "text": [
      "answer: 12 - 3 = 9\n"
     ]
    }
   ],
   "source": [
    "a = 12\n",
    "b = 3\n",
    "c = a - b\n",
    "print(\"answer:\",a ,'-',b,'=',c)"
   ]
  },
  {
   "cell_type": "code",
   "execution_count": 3,
   "metadata": {},
   "outputs": [
    {
     "name": "stdout",
     "output_type": "stream",
     "text": [
      "simple intrest calculator\n",
      "principal = 5000 rs\n",
      "rate = 200 %\n",
      "time= 50 year\n",
      "_______________\n",
      "simple intrest= 500000.0\n"
     ]
    }
   ],
   "source": [
    "r = int(input(\"enter ur rate\"))\n",
    "p = int(input(\"enter ur principal\"))\n",
    "t = int(input(\"enter ur time\"))\n",
    "si =p*r*t/100\n",
    "\n",
    "print(\"simple intrest calculator\")\n",
    "print(\"principal =\",p , 'rs')\n",
    "print(\"rate =\", r, '%')\n",
    "print(\"time=\" ,t , 'year')\n",
    "print('_'* 15)\n",
    "print(\"simple intrest=\",si)"
   ]
  },
  {
   "cell_type": "code",
   "execution_count": 33,
   "metadata": {},
   "outputs": [
    {
     "name": "stdout",
     "output_type": "stream",
     "text": [
      "12,3,9,10.2\n",
      "apple,banana,cherry\n"
     ]
    }
   ],
   "source": [
    "print(a,b,c,d, sep=\",\")# ADVANCEversion ( not to be discussed)\n",
    "fruits = ['apple','banana','cherry']\n",
    "print(*fruits,sep=',')"
   ]
  },
  {
   "cell_type": "markdown",
   "metadata": {},
   "source": [
    "String interpolation for formatted output\n"
   ]
  },
  {
   "cell_type": "code",
   "execution_count": 34,
   "metadata": {},
   "outputs": [
    {
     "name": "stdout",
     "output_type": "stream",
     "text": [
      "answer: 12 - 3 = 9\n",
      "answer:12 - 3 = 9\n"
     ]
    }
   ],
   "source": [
    "a = 12\n",
    "b = 3\n",
    "c = a - b\n",
    "print(\"answer:\",a,'-',b,'=',c)\n",
    "print(f\"answer:{a} - {b} = {c}\")"
   ]
  },
  {
   "cell_type": "code",
   "execution_count": 36,
   "metadata": {},
   "outputs": [
    {
     "name": "stdout",
     "output_type": "stream",
     "text": [
      "area oftriangle\n",
      "base = 12 cm\n",
      "height = 4 cm\n",
      "_______________\n",
      "area = 24.0 cm\n"
     ]
    }
   ],
   "source": [
    "#area of triangle \n",
    "b = int(input(\"enter the base of the triangle\"))\n",
    "h = int(input(\"enter the height of the triangle\"))\n",
    "area = 1/2*b*h\n",
    "print(\"area oftriangle\")\n",
    "print(f'base = {b} cm')\n",
    "print(f'height = {h} cm')\n",
    "print('_'*15)\n",
    "print(f'area = {area} cm')"
   ]
  },
  {
   "cell_type": "code",
   "execution_count": 2,
   "metadata": {},
   "outputs": [
    {
     "name": "stdout",
     "output_type": "stream",
     "text": [
      "3\n",
      "3.3\n",
      "3.33\n"
     ]
    }
   ],
   "source": [
    "# round function should be used with expression\n",
    "print(round(10/3))\n",
    "print(round(10/3, 1))\n",
    "print(round(10/3, 2))"
   ]
  },
  {
   "cell_type": "code",
   "execution_count": 3,
   "metadata": {},
   "outputs": [
    {
     "name": "stdout",
     "output_type": "stream",
     "text": [
      "10 divided by 7 is 1.4285714285714286\n",
      "10 divided by 7 is 1.4\n",
      "10 divided by 7 is 1.43\n",
      "10 divided by 7 is 1.429\n"
     ]
    }
   ],
   "source": [
    "#displaying round function should be used with expression\n",
    "a = 10\n",
    "b = 7\n",
    "print(f'{a} divided by {b} is {a/b}')\n",
    "print(f'{a} divided by {b} is {a/b:.1f}')\n",
    "print(f'{a} divided by {b} is {a/b:.2f}')\n",
    "print(f'{a} divided by {b} is {a/b:.3f}')"
   ]
  },
  {
   "cell_type": "code",
   "execution_count": 9,
   "metadata": {},
   "outputs": [
    {
     "name": "stdout",
     "output_type": "stream",
     "text": [
      "                        the final empire |  brandon sanderson   | 499\n",
      "                          the art of war |       sun tzu        | 239\n",
      "   stormlight archives: the way of kings |  brandon sanderson   | 550\n"
     ]
    }
   ],
   "source": [
    "#text alignment\n",
    "n1 = \"the final empire\"\n",
    "a1 = 'brandon sanderson'\n",
    "p1 = 499\n",
    "n2 = 'the art of war'\n",
    "a2 = 'sun tzu'\n",
    "p2 = 239\n",
    "n3 = 'stormlight archives: the way of kings'\n",
    "a3 = 'brandon sanderson'\n",
    "p3 = 550\n",
    "\n",
    "print(f'{n1:>40} | {a1:^20} | {p1}')\n",
    "print(f'{n2:>40} | {a2:^20} | {p2}')\n",
    "print(f'{n3:>40} | {a3:^20} | {p3}')"
   ]
  },
  {
   "cell_type": "code",
   "execution_count": null,
   "metadata": {},
   "outputs": [],
   "source": []
  }
 ],
 "metadata": {
  "kernelspec": {
   "display_name": "base",
   "language": "python",
   "name": "python3"
  },
  "language_info": {
   "codemirror_mode": {
    "name": "ipython",
    "version": 3
   },
   "file_extension": ".py",
   "mimetype": "text/x-python",
   "name": "python",
   "nbconvert_exporter": "python",
   "pygments_lexer": "ipython3",
   "version": "3.11.5"
  }
 },
 "nbformat": 4,
 "nbformat_minor": 2
}
