{
 "cells": [
  {
   "cell_type": "code",
   "execution_count": 1,
   "metadata": {},
   "outputs": [],
   "source": [
    "import os"
   ]
  },
  {
   "cell_type": "code",
   "execution_count": 3,
   "metadata": {},
   "outputs": [
    {
     "name": "stdout",
     "output_type": "stream",
     "text": [
      "c:\\Users\\asus\\OneDrive\\Documents\\pythondata science\n"
     ]
    }
   ],
   "source": [
    "base_dtr =os.getcwd()\n",
    "print(base_dtr)\n"
   ]
  },
  {
   "cell_type": "code",
   "execution_count": 4,
   "metadata": {},
   "outputs": [
    {
     "name": "stdout",
     "output_type": "stream",
     "text": [
      "['.git', 'basics.ipynb', 'condition.ipynb', 'filehandling.ipynb', 'functions.ipynb', 'io.ipynb', 'khaani.py', 'list.ipynb', 'loops.ipynb', 'parttern1.py', 'set_n_dict.ipynb', 'string.ipynb']\n"
     ]
    }
   ],
   "source": [
    "content = os.listdir()\n",
    "print(content)"
   ]
  },
  {
   "cell_type": "code",
   "execution_count": 5,
   "metadata": {},
   "outputs": [
    {
     "name": "stdout",
     "output_type": "stream",
     "text": [
      "total content: 25\n"
     ]
    }
   ],
   "source": [
    "addr =r'C:\\program files'\n",
    "content = os.listdir(addr)\n",
    "print(f'total content: {len(content)}')"
   ]
  },
  {
   "cell_type": "code",
   "execution_count": 17,
   "metadata": {},
   "outputs": [
    {
     "ename": "AttributeError",
     "evalue": "module 'os' has no attribute 'listdrives'",
     "output_type": "error",
     "traceback": [
      "\u001b[1;31m---------------------------------------------------------------------------\u001b[0m",
      "\u001b[1;31mAttributeError\u001b[0m                            Traceback (most recent call last)",
      "Cell \u001b[1;32mIn[17], line 1\u001b[0m\n\u001b[1;32m----> 1\u001b[0m os\u001b[38;5;241m.\u001b[39mlistdrives()\n",
      "\u001b[1;31mAttributeError\u001b[0m: module 'os' has no attribute 'listdrives'"
     ]
    }
   ],
   "source": [
    "os.listdrives()"
   ]
  },
  {
   "cell_type": "code",
   "execution_count": 10,
   "metadata": {},
   "outputs": [
    {
     "name": "stdout",
     "output_type": "stream",
     "text": [
      "['$RECYCLE.BIN', '25th anniversary', 'Arpisha wedding', 'bhajan songs', 'Documents', 'Download', 'drive D', 'drive E', 'sent', 'SOFTWARE', 'SS', 'System Volume Information', 'Telegram', 'Videoder']\n"
     ]
    }
   ],
   "source": [
    "os.chdir(\"E:\")\n",
    "print(os.listdir())"
   ]
  },
  {
   "cell_type": "code",
   "execution_count": 11,
   "metadata": {},
   "outputs": [
    {
     "data": {
      "text/plain": [
       "'E:\\\\'"
      ]
     },
     "execution_count": 11,
     "metadata": {},
     "output_type": "execute_result"
    }
   ],
   "source": [
    "os.getcwd()"
   ]
  },
  {
   "cell_type": "code",
   "execution_count": 15,
   "metadata": {},
   "outputs": [],
   "source": [
    "os.makedirs(\"mynotes\",exist_ok=True)"
   ]
  },
  {
   "cell_type": "markdown",
   "metadata": {},
   "source": [
    "# python file handling\n",
    "open() - opens file resources and returns a file object\n",
    "- mods\n",
    "- 'r' - read mode(default)\n",
    "- 'w' - write mode \n",
    "- 'a' - append mode "
   ]
  },
  {
   "cell_type": "code",
   "execution_count": 19,
   "metadata": {},
   "outputs": [],
   "source": [
    "with open('mynotes/note1.txt','w') as f:\n",
    "    f.write(\"this is my first note:\\n\")\n",
    "    f.write(\"python file handling is super easy:\\n\")\n",
    "    f.write(\"you can create and delete files easily:\\n\")\n"
   ]
  },
  {
   "cell_type": "code",
   "execution_count": 22,
   "metadata": {},
   "outputs": [],
   "source": [
    "with open('mynotes/note1.txt','a') as f:\n",
    "    f.write(\"os module is the best\\n\")\n",
    "    f.write(\"python file is super easy\\n\")\n",
    "    f.write(\"😍😍\\n\")\n",
    "          "
   ]
  },
  {
   "cell_type": "code",
   "execution_count": 27,
   "metadata": {},
   "outputs": [
    {
     "name": "stdout",
     "output_type": "stream",
     "text": [
      "this is my first note:\n",
      "python file handling is super easy:\n",
      "you can create and delete files easily:\n",
      "os module is the best\n",
      "python file is super easy\n",
      "😍😍\n",
      "\n"
     ]
    }
   ],
   "source": [
    "with open(\"mynotes/note1.txt\") as file:\n",
    "    data = file.read()\n",
    "    print(data)"
   ]
  },
  {
   "cell_type": "code",
   "execution_count": 28,
   "metadata": {},
   "outputs": [
    {
     "name": "stdout",
     "output_type": "stream",
     "text": [
      "kahani =\"\"\n",
      "while True:\n",
      "    data = input('enter a story=>')\n",
      "    if len(data) == 0:\n",
      "        print(\"the end\")\n",
      "        break\n",
      "    kahani += data + \"/n\"\n",
      "\n",
      "    print(\"the real story:\")\n",
      "    print(kahani)\n"
     ]
    }
   ],
   "source": [
    "with open(r'C:\\Users\\asus\\OneDrive\\Documents\\pythondata science\\khaani.py') as f:\n",
    "    data = f.read()\n",
    "    print(data)"
   ]
  },
  {
   "cell_type": "code",
   "execution_count": 45,
   "metadata": {},
   "outputs": [
    {
     "ename": "FileNotFoundError",
     "evalue": "[WinError 3] The system cannot find the path specified: 'C:/users/zaid/Downloads'",
     "output_type": "error",
     "traceback": [
      "\u001b[1;31m---------------------------------------------------------------------------\u001b[0m",
      "\u001b[1;31mFileNotFoundError\u001b[0m                         Traceback (most recent call last)",
      "Cell \u001b[1;32mIn[45], line 1\u001b[0m\n\u001b[1;32m----> 1\u001b[0m content \u001b[38;5;241m=\u001b[39m os\u001b[38;5;241m.\u001b[39mlistdir(\u001b[38;5;124m'\u001b[39m\u001b[38;5;124mC:/users/zaid/Downloads\u001b[39m\u001b[38;5;124m'\u001b[39m)\n\u001b[0;32m      2\u001b[0m \u001b[38;5;28mlist\u001b[39m(\u001b[38;5;28mfilter\u001b[39m(\u001b[38;5;28;01mlambda\u001b[39;00m file: file\u001b[38;5;241m.\u001b[39mendswith(\u001b[38;5;124m'\u001b[39m\u001b[38;5;124m.documents\u001b[39m\u001b[38;5;124m'\u001b[39m), items))\n\u001b[0;32m      3\u001b[0m \u001b[38;5;28mprint\u001b[39m(documents)\n",
      "\u001b[1;31mFileNotFoundError\u001b[0m: [WinError 3] The system cannot find the path specified: 'C:/users/zaid/Downloads'"
     ]
    }
   ],
   "source": [
    "content = os.listdir('C:/users/zaid/Downloads')\n",
    "list(filter(lambda file: file.endswith('.documents'), items))\n",
    "print(documents)"
   ]
  },
  {
   "cell_type": "code",
   "execution_count": 1,
   "metadata": {},
   "outputs": [
    {
     "ename": "NameError",
     "evalue": "name 'documents' is not defined",
     "output_type": "error",
     "traceback": [
      "\u001b[1;31m---------------------------------------------------------------------------\u001b[0m",
      "\u001b[1;31mNameError\u001b[0m                                 Traceback (most recent call last)",
      "Cell \u001b[1;32mIn[1], line 1\u001b[0m\n\u001b[1;32m----> 1\u001b[0m \u001b[38;5;28;01mfor\u001b[39;00m file \u001b[38;5;129;01min\u001b[39;00m documents:\n\u001b[0;32m      2\u001b[0m     path \u001b[38;5;241m=\u001b[39m \u001b[38;5;124mf\u001b[39m\u001b[38;5;124m'\u001b[39m\u001b[38;5;124mC:/users/zaid/Downloads/\u001b[39m\u001b[38;5;132;01m{\u001b[39;00mfile\u001b[38;5;132;01m}\u001b[39;00m\u001b[38;5;124m'\u001b[39m\n\u001b[0;32m      3\u001b[0m     size \u001b[38;5;241m=\u001b[39m os\u001b[38;5;241m.\u001b[39mpath\u001b[38;5;241m.\u001b[39mgetsize(path)\n",
      "\u001b[1;31mNameError\u001b[0m: name 'documents' is not defined"
     ]
    }
   ],
   "source": [
    "for file in documents:\n",
    "    path = f'C:/users/zaid/Downloads/{file}'\n",
    "    size = os.path.getsize(path)\n",
    "    print(f'{file:50} {size/1024:.2f} kb')\n",
    "    \n",
    "    \n",
    "    "
   ]
  },
  {
   "cell_type": "code",
   "execution_count": null,
   "metadata": {},
   "outputs": [],
   "source": []
  }
 ],
 "metadata": {
  "kernelspec": {
   "display_name": "base",
   "language": "python",
   "name": "python3"
  },
  "language_info": {
   "codemirror_mode": {
    "name": "ipython",
    "version": 3
   },
   "file_extension": ".py",
   "mimetype": "text/x-python",
   "name": "python",
   "nbconvert_exporter": "python",
   "pygments_lexer": "ipython3",
   "version": "3.11.5"
  }
 },
 "nbformat": 4,
 "nbformat_minor": 2
}
