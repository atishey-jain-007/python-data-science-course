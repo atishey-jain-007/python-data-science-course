{
 "cells": [
  {
   "cell_type": "code",
   "execution_count": 21,
   "metadata": {},
   "outputs": [
    {
     "name": "stdout",
     "output_type": "stream",
     "text": [
      "12 <class 'int'>\n"
     ]
    }
   ],
   "source": [
    "x= 12\n",
    "print(x,type(x))\n"
   ]
  },
  {
   "cell_type": "markdown",
   "metadata": {},
   "source": [
    "OOP\n",
    "- class\n",
    "- object\n",
    "- inheritance\n",
    "- polymorphism\n",
    "- encapsulation\n",
    "- abstraction"
   ]
  },
  {
   "cell_type": "code",
   "execution_count": 22,
   "metadata": {},
   "outputs": [
    {
     "name": "stdout",
     "output_type": "stream",
     "text": [
      "<class 'str'>\n"
     ]
    }
   ],
   "source": [
    "name =\"John\"\n",
    "print(type(name))"
   ]
  },
  {
   "cell_type": "markdown",
   "metadata": {},
   "source": [
    "class - blueprint for creating Objects\n",
    "- properties/attributes/fields\n",
    "- constructor (special method)\n",
    "syntax\n",
    "'''\n",
    "\n",
    "class ClassName:\n",
    "    properties 1\n",
    "    properties 2\n",
    "    properties n\n",
    "\n",
    "    def method1():\n",
    "    statements\n",
    "    def method2():\n",
    "    statements\n",
    "    def methodn():\n",
    "    statements\n",
    "    \n",
    "    \n",
    "\n",
    "    \n"
   ]
  },
  {
   "cell_type": "code",
   "execution_count": 23,
   "metadata": {},
   "outputs": [],
   "source": [
    "class nothing:\n",
    "    pass"
   ]
  },
  {
   "cell_type": "code",
   "execution_count": 24,
   "metadata": {},
   "outputs": [
    {
     "name": "stdout",
     "output_type": "stream",
     "text": [
      "<class '__main__.nothing'>\n"
     ]
    }
   ],
   "source": [
    "print(nothing)"
   ]
  },
  {
   "cell_type": "code",
   "execution_count": 25,
   "metadata": {},
   "outputs": [],
   "source": [
    "class Book:\n",
    "    title= \"\"\n",
    "    author =\"\""
   ]
  },
  {
   "cell_type": "code",
   "execution_count": 26,
   "metadata": {},
   "outputs": [
    {
     "data": {
      "text/plain": [
       "['__class__',\n",
       " '__delattr__',\n",
       " '__dict__',\n",
       " '__dir__',\n",
       " '__doc__',\n",
       " '__eq__',\n",
       " '__format__',\n",
       " '__ge__',\n",
       " '__getattribute__',\n",
       " '__getstate__',\n",
       " '__gt__',\n",
       " '__hash__',\n",
       " '__init__',\n",
       " '__init_subclass__',\n",
       " '__le__',\n",
       " '__lt__',\n",
       " '__module__',\n",
       " '__ne__',\n",
       " '__new__',\n",
       " '__reduce__',\n",
       " '__reduce_ex__',\n",
       " '__repr__',\n",
       " '__setattr__',\n",
       " '__sizeof__',\n",
       " '__str__',\n",
       " '__subclasshook__',\n",
       " '__weakref__',\n",
       " 'author',\n",
       " 'title']"
      ]
     },
     "execution_count": 26,
     "metadata": {},
     "output_type": "execute_result"
    }
   ],
   "source": [
    "dir(Book)"
   ]
  },
  {
   "cell_type": "code",
   "execution_count": 27,
   "metadata": {},
   "outputs": [
    {
     "data": {
      "text/plain": [
       "['__class__',\n",
       " '__delattr__',\n",
       " '__dict__',\n",
       " '__dir__',\n",
       " '__doc__',\n",
       " '__eq__',\n",
       " '__format__',\n",
       " '__ge__',\n",
       " '__getattribute__',\n",
       " '__getstate__',\n",
       " '__gt__',\n",
       " '__hash__',\n",
       " '__init__',\n",
       " '__init_subclass__',\n",
       " '__le__',\n",
       " '__lt__',\n",
       " '__module__',\n",
       " '__ne__',\n",
       " '__new__',\n",
       " '__reduce__',\n",
       " '__reduce_ex__',\n",
       " '__repr__',\n",
       " '__setattr__',\n",
       " '__sizeof__',\n",
       " '__str__',\n",
       " '__subclasshook__',\n",
       " '__weakref__',\n",
       " 'author',\n",
       " 'title']"
      ]
     },
     "execution_count": 27,
     "metadata": {},
     "output_type": "execute_result"
    }
   ],
   "source": [
    "dir(Book)"
   ]
  },
  {
   "cell_type": "code",
   "execution_count": 28,
   "metadata": {},
   "outputs": [
    {
     "name": "stdout",
     "output_type": "stream",
     "text": [
      "<__main__.Book object at 0x000001C0BB32EED0>\n",
      "Words of Radiance\n",
      "Brandon sanderson\n",
      "<__main__.Book object at 0x000001C0BB372810>\n",
      "The Way of Kings\n",
      "Brandon Sanderson\n"
     ]
    }
   ],
   "source": [
    "# obj = Class()\n",
    "b1 = Book()\n",
    "print(b1)\n",
    "b1.title= \"Words of Radiance\"\n",
    "b1.author=\"Brandon sanderson\"\n",
    "print(b1.title)\n",
    "print(b1.author)\n",
    "\n",
    "b2 =Book()\n",
    "b2.title = \"The Way of Kings\"\n",
    "b2.author=\"Brandon Sanderson\"\n",
    "print(b2)\n",
    "print(b2.title)\n",
    "print(b2.author)"
   ]
  },
  {
   "cell_type": "code",
   "execution_count": 32,
   "metadata": {},
   "outputs": [
    {
     "data": {
      "text/plain": [
       "['Muted',\n",
       " '__class__',\n",
       " '__delattr__',\n",
       " '__dict__',\n",
       " '__dir__',\n",
       " '__doc__',\n",
       " '__eq__',\n",
       " '__format__',\n",
       " '__ge__',\n",
       " '__getattribute__',\n",
       " '__getstate__',\n",
       " '__gt__',\n",
       " '__hash__',\n",
       " '__init__',\n",
       " '__init_subclass__',\n",
       " '__le__',\n",
       " '__lt__',\n",
       " '__module__',\n",
       " '__ne__',\n",
       " '__new__',\n",
       " '__reduce__',\n",
       " '__reduce_ex__',\n",
       " '__repr__',\n",
       " '__setattr__',\n",
       " '__sizeof__',\n",
       " '__str__',\n",
       " '__subclasshook__',\n",
       " '__weakref__',\n",
       " 'date',\n",
       " 'dp',\n",
       " 'has_status',\n",
       " 'last_msg',\n",
       " 'notif',\n",
       " 'pinned',\n",
       " 'sender']"
      ]
     },
     "execution_count": 32,
     "metadata": {},
     "output_type": "execute_result"
    }
   ],
   "source": [
    "class ChatMessage:\n",
    "    def __init__(self, s,msg ,dp ,date, n, p, m ,hs):\n",
    "        self.sender =s\n",
    "        self.last_msg =msg\n",
    "        self.dp = dp\n",
    "        self.date =date\n",
    "        self.notif = n\n",
    "        \n",
    "        self.pinned =p\n",
    "        self.Muted = m\n",
    "        self.has_status = hs\n",
    "        \n",
    "    \n",
    "\n",
    "cm1 = ChatMessage(\"Amazon\", \"You have coupon \"\n",
    "                  , \"You have coupon\",\"amazon.jpg\"\n",
    "                  ,n=0,p=False,hs=True, m=False)\n",
    "                  \n",
    "dir(cm1)\n",
    "    \n",
    "    "
   ]
  },
  {
   "cell_type": "code",
   "execution_count": 46,
   "metadata": {},
   "outputs": [],
   "source": [
    "class Student:\n",
    "    def __init__(self, name,std,roll_no):\n",
    "        self.name = name\n",
    "        self.std = std\n",
    "        self.roll_no = roll_no\n",
    "    def  display(self):\n",
    "            print(\"Student ---->\")\n",
    "            print(\"Name:\",self.name)\n",
    "            print(\"Standard:\",self.std)\n",
    "            print(\"roll num:\",self.roll_no)\n",
    "            print(\"_\"*20)\n"
   ]
  },
  {
   "cell_type": "code",
   "execution_count": 47,
   "metadata": {},
   "outputs": [
    {
     "name": "stdout",
     "output_type": "stream",
     "text": [
      "Student ---->\n",
      "Name: John\n",
      "Standard: 12\n",
      "roll num: 101\n",
      "____________________\n",
      "Student ---->\n",
      "Name: Jane\n",
      "Standard: 12\n",
      "roll num: 102\n",
      "____________________\n"
     ]
    }
   ],
   "source": [
    "s1 = Student(\"John\",12,101)\n",
    "s2 = Student(\"Jane\",12,102)\n",
    "s1.display()\n",
    "s2.display()"
   ]
  },
  {
   "cell_type": "code",
   "execution_count": 48,
   "metadata": {},
   "outputs": [],
   "source": [
    "from dataclasses import dataclass\n",
    "\n",
    "@dataclass\n",
    "class pet:\n",
    "    pet_type:str\n",
    "    gender: str\n",
    "    color:str\n",
    "    age:int"
   ]
  },
  {
   "cell_type": "code",
   "execution_count": 50,
   "metadata": {},
   "outputs": [
    {
     "name": "stdout",
     "output_type": "stream",
     "text": [
      "pet(pet_type='cat', gender='Male', color='Black', age=2)\n",
      "pet(pet_type='parrot', gender='Male', color='green', age=1)\n",
      "pet(pet_type='Dog', gender='Male', color='White', age=1)\n"
     ]
    }
   ],
   "source": [
    "p1 =pet(pet_type='cat',gender=\"Male\",color=\"Black\",age=2)\n",
    "p2 =pet(pet_type='parrot',gender=\"Male\",color=\"green\",age=1)\n",
    "p3=pet(pet_type='Dog',gender=\"Male\",color=\"White\",age=1)\n",
    "print(p1)\n",
    "print(p2)\n",
    "print(p3)"
   ]
  },
  {
   "cell_type": "code",
   "execution_count": 51,
   "metadata": {},
   "outputs": [
    {
     "name": "stdout",
     "output_type": "stream",
     "text": [
      "200\n",
      "50\n",
      "r1 is bigger\n"
     ]
    }
   ],
   "source": [
    "class Rectangle:\n",
    "    def __init__(self,l,w):\n",
    "        self.length = l\n",
    "        self.width = w\n",
    "    def area(self):\n",
    "        return self.length*self.width\n",
    "    def perimeter(self):\n",
    "        return 2 * (self.length+self.width)\n",
    "    \n",
    "r1 = Rectangle(10, 20)\n",
    "r2 = Rectangle(5,10)\n",
    "print(r1.area())\n",
    "print(r2.area())\n",
    "if r1.area() > r2.area():\n",
    "    print(\"r1 is bigger\")\n",
    "else:\n",
    "    print(\"r2 is bigger\")\n"
   ]
  },
  {
   "cell_type": "markdown",
   "metadata": {},
   "source": [
    "Inheritance \n",
    "- multi-level inheritance (A->B->C->)\n",
    "- multiple inheritance (A<B->C)\n"
   ]
  },
  {
   "cell_type": "code",
   "execution_count": 1,
   "metadata": {},
   "outputs": [],
   "source": [
    "class Vehicle:\n",
    "    def __init__(self,brand,model):\n",
    "        self.brand = brand\n",
    "        self.model = model\n",
    "    def display(self):\n",
    "        print(f\"{self.brand}-{self.model}\")"
   ]
  },
  {
   "cell_type": "code",
   "execution_count": 3,
   "metadata": {},
   "outputs": [],
   "source": [
    "# car,bike, truck\n",
    "\n",
    "class Vehicle:\n",
    "    def __init__(self,brand,model):\n",
    "        self.brand = brand\n",
    "        self.model = model\n",
    "    def display(self):\n",
    "        print(f\"{self.brand}-{self.model}\")"
   ]
  },
  {
   "cell_type": "code",
   "execution_count": 7,
   "metadata": {},
   "outputs": [],
   "source": [
    "class Car(Vehicle):\n",
    "    def __init__(self,brand,model,carType, seats):\n",
    "        super().__init__(brand,model)\n",
    "        self.carType = carType\n",
    "        self.seats = seats"
   ]
  },
  {
   "cell_type": "code",
   "execution_count": 8,
   "metadata": {},
   "outputs": [
    {
     "name": "stdout",
     "output_type": "stream",
     "text": [
      "Toyota-Corolla\n",
      "Honda-Civic\n"
     ]
    }
   ],
   "source": [
    "c1 = Car(\"Toyota\",\"Corolla\",\"Sedan\",5)\n",
    "c2 = Car(\"Honda\",\"Civic\",\"Sedan\",5)\n",
    "c1.display()\n",
    "c2.display()"
   ]
  },
  {
   "cell_type": "code",
   "execution_count": 9,
   "metadata": {},
   "outputs": [],
   "source": [
    "class SuperList(list):\n",
    "    def __init__(self,*args):\n",
    "        super().__init__(*args)\n",
    "    def sum(self):\n",
    "        clean_list = [x for x in self if isinstance(x,int)]\n",
    "        return sum(clean_list)\n",
    "        "
   ]
  },
  {
   "cell_type": "code",
   "execution_count": 10,
   "metadata": {},
   "outputs": [
    {
     "name": "stdout",
     "output_type": "stream",
     "text": [
      "[1, 'bat', 2, 3, 'cat', 4, 'dat', 5]\n",
      "15\n"
     ]
    }
   ],
   "source": [
    "x = SuperList([1,'bat',2,3,'cat',4,'dat',5])\n",
    "print(x)\n",
    "print(x.sum())"
   ]
  },
  {
   "cell_type": "code",
   "execution_count": 25,
   "metadata": {},
   "outputs": [],
   "source": [
    "# multiple inheritance\n",
    "import random\n",
    "class Wizart:\n",
    "    def __init__(self,spells):\n",
    "        self.spells = spells\n",
    "    def cast_spell(self):\n",
    "        print(f\"casting spell{random.choice(self.spells)}\")\n",
    "\n",
    "class Warrior:\n",
    "    def __init__(self,weapons):\n",
    "        self.weapons = weapons\n",
    "    def attack(self):\n",
    "        print(f\"attacking with {random.choice(self.weapons)}\")\n",
    "\n",
    "class BattleMage(Wizart,Warrior):\n",
    "    def __init__(self,spells,weapons):\n",
    "        Wizart.__init__(self,spells)\n",
    "        Warrior.__init__(self,weapons)\n",
    "    \n",
    "    def fight(self):\n",
    "        self.cast_spell()\n",
    "        self.attack()\n",
    "    "
   ]
  },
  {
   "cell_type": "code",
   "execution_count": 26,
   "metadata": {},
   "outputs": [
    {
     "name": "stdout",
     "output_type": "stream",
     "text": [
      "Warrior\n",
      "attacking with Axe\n",
      "Wizart\n",
      "casting spellLightning\n",
      "BattleMage\n",
      "casting spellAxe\n",
      "attacking with Iceball\n"
     ]
    }
   ],
   "source": [
    "w = Warrior([\"Sword\",\"Axe\",\"Mace\"])\n",
    "wz = Wizart([\"Fireball\",\"Iceball\",\"Lightning\"])\n",
    "bm = BattleMage([\"Sword\",\"Axe\",\"Mace\"],[\"Fireball\",\"Iceball\",\"Lightning\"])\n",
    "print(\"Warrior\")\n",
    "w.attack()\n",
    "print(\"Wizart\")\n",
    "wz.cast_spell()\n",
    "print(\"BattleMage\")\n",
    "bm.fight()"
   ]
  },
  {
   "cell_type": "code",
   "execution_count": null,
   "metadata": {},
   "outputs": [],
   "source": []
  }
 ],
 "metadata": {
  "kernelspec": {
   "display_name": "base",
   "language": "python",
   "name": "python3"
  },
  "language_info": {
   "codemirror_mode": {
    "name": "ipython",
    "version": 3
   },
   "file_extension": ".py",
   "mimetype": "text/x-python",
   "name": "python",
   "nbconvert_exporter": "python",
   "pygments_lexer": "ipython3",
   "version": "3.11.5"
  }
 },
 "nbformat": 4,
 "nbformat_minor": 2
}
