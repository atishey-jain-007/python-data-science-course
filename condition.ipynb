{
 "cells": [
  {
   "cell_type": "markdown",
   "metadata": {},
   "source": [
    "condition\n",
    "- 'if'\n",
    "- 'if else'\n",
    "- ' if elif'\n",
    "- 'match case'\n",
    "\n"
   ]
  },
  {
   "cell_type": "markdown",
   "metadata": {},
   "source": [
    "...\n",
    " if expr:\n",
    "  statement1\n",
    "  statement2\n",
    "..."
   ]
  },
  {
   "cell_type": "code",
   "execution_count": 4,
   "metadata": {},
   "outputs": [
    {
     "name": "stdout",
     "output_type": "stream",
     "text": [
      "you have a very big name\n"
     ]
    }
   ],
   "source": [
    "name = input(\"enter your name\")\n",
    "if len(name) >=10:\n",
    "   print(\"you have a very big name\")"
   ]
  },
  {
   "cell_type": "code",
   "execution_count": 11,
   "metadata": {},
   "outputs": [
    {
     "name": "stdout",
     "output_type": "stream",
     "text": [
      "standard name, nothing special\n",
      "consize name\n"
     ]
    }
   ],
   "source": [
    "name = input(\"enter your name\")\n",
    "if len(name) >= 10:\n",
    "    print(\"you have a very big name\")\n",
    "if len(name) < 10:\n",
    "    print(\"standard name, nothing special\")\n",
    "if len(name) <=4:\n",
    "    print(\"consize name\")\n",
    "if len(name) =='':\n",
    "    print(\"you dont have a name\")"
   ]
  },
  {
   "cell_type": "code",
   "execution_count": 12,
   "metadata": {},
   "outputs": [
    {
     "name": "stdout",
     "output_type": "stream",
     "text": [
      "even\n"
     ]
    }
   ],
   "source": [
    "num = int(input(\"enter a number\"))\n",
    "if num % 2 == 0:\n",
    "    print(\"even\")\n",
    "else:\n",
    "    print(\"odd\")"
   ]
  },
  {
   "cell_type": "code",
   "execution_count": 1,
   "metadata": {},
   "outputs": [
    {
     "name": "stdout",
     "output_type": "stream",
     "text": [
      "who are you\n"
     ]
    }
   ],
   "source": [
    "username = input(\"enter username\")\n",
    "password = input(\"enter password\")\n",
    "if username == \"admin\" and password ==\"admin\":\n",
    "    print(\"wlcome user\")\n",
    "else:\n",
    " print(\"who are you\")    "
   ]
  },
  {
   "cell_type": "code",
   "execution_count": 15,
   "metadata": {},
   "outputs": [
    {
     "name": "stdout",
     "output_type": "stream",
     "text": [
      "badiya, B grade\n"
     ]
    }
   ],
   "source": [
    "# if -elif ladder\n",
    "marks = int(input(\"kitne number aaye appke =>\"))\n",
    "if marks > 85:\n",
    "    print(\"arey wah! you got A\")\n",
    "elif marks >= 70:\n",
    "    print(\"badiya, B grade\")\n",
    "elif marks>=50:\n",
    "    print(\"chalo pass to hue, C grade\")\n",
    "else:\n",
    "    print(\"fail,better luck next year\")  "
   ]
  },
  {
   "cell_type": "code",
   "execution_count": 17,
   "metadata": {},
   "outputs": [
    {
     "name": "stdout",
     "output_type": "stream",
     "text": [
      "username does not exist\n"
     ]
    }
   ],
   "source": [
    "# neseted conditions\n",
    "username = input(\"username:\")\n",
    "password = input(\"password:\")\n",
    "if username != '' and password !='':\n",
    "    if username == \"admin\":\n",
    "        if password == \"admin\":\n",
    "            print(\"welcome user2183!\")\n",
    "        else:\n",
    "            print(\"password do not match\")\n",
    "    else:\n",
    "        print(\"username does not exist\")\n",
    "else:\n",
    "    print(\"credentials cant be blank\")\n"
   ]
  },
  {
   "cell_type": "code",
   "execution_count": 1,
   "metadata": {},
   "outputs": [
    {
     "name": "stdout",
     "output_type": "stream",
     "text": [
      "you are old\n"
     ]
    }
   ],
   "source": [
    "age = int(input('enter ur age:'))\n",
    "match age:\n",
    "    case 1|2|3|4|5:\n",
    "        print(\"you are still very young\")\n",
    "    case 10:\n",
    "        print(\"you should go and play outside\")\n",
    "    case 20:\n",
    "        print(\"you are a teenager\")\n",
    "    case 30:\n",
    "        print(\"you are an adult\")\n",
    "    case 40:\n",
    "        print('you are old')"
   ]
  }
 ],
 "metadata": {
  "kernelspec": {
   "display_name": "base",
   "language": "python",
   "name": "python3"
  },
  "language_info": {
   "codemirror_mode": {
    "name": "ipython",
    "version": 3
   },
   "file_extension": ".py",
   "mimetype": "text/x-python",
   "name": "python",
   "nbconvert_exporter": "python",
   "pygments_lexer": "ipython3",
   "version": "3.11.5"
  }
 },
 "nbformat": 4,
 "nbformat_minor": 2
}
